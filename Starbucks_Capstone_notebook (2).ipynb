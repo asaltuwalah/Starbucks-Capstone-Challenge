{
 "cells": [
  {
   "cell_type": "markdown",
   "metadata": {},
   "source": [
    "# Business Understanding"
   ]
  },
  {
   "cell_type": "markdown",
   "metadata": {},
   "source": [
    "## Starbucks Capstone Challenge\n",
    "\n",
    "### Introduction\n",
    "\n",
    "This data set contains simulated data that mimics customer behavior on the Starbucks rewards mobile app. Once every few days, Starbucks sends out an offer to users of the mobile app. An offer can be merely an advertisement for a drink or an actual offer such as a discount or BOGO (buy one get one free). Some users might not receive any offer during certain weeks. \n",
    "\n",
    "Not all users receive the same offer, and that is the challenge to solve with this data set.\n",
    "\n",
    "Your task is to combine transaction, demographic and offer data to determine which demographic groups respond best to which offer type. This data set is a simplified version of the real Starbucks app because the underlying simulator only has one product whereas Starbucks actually sells dozens of products.\n",
    "\n",
    "Every offer has a validity period before the offer expires. As an example, a BOGO offer might be valid for only 5 days. You'll see in the data set that informational offers have a validity period even though these ads are merely providing information about a product; for example, if an informational offer has 7 days of validity, you can assume the customer is feeling the influence of the offer for 7 days after receiving the advertisement.\n",
    "\n",
    "You'll be given transactional data showing user purchases made on the app including the timestamp of purchase and the amount of money spent on a purchase. This transactional data also has a record for each offer that a user receives as well as a record for when a user actually views the offer. There are also records for when a user completes an offer. \n",
    "\n",
    "Keep in mind as well that someone using the app might make a purchase through the app without having received an offer or seen an offer.\n",
    "\n",
    "### Example\n",
    "\n",
    "To give an example, a user could receive a discount offer buy 10 dollars get 2 off on Monday. The offer is valid for 10 days from receipt. If the customer accumulates at least 10 dollars in purchases during the validity period, the customer completes the offer.\n",
    "\n",
    "However, there are a few things to watch out for in this data set. Customers do not opt into the offers that they receive; in other words, a user can receive an offer, never actually view the offer, and still complete the offer. For example, a user might receive the \"buy 10 dollars get 2 dollars off offer\", but the user never opens the offer during the 10 day validity period. The customer spends 15 dollars during those ten days. There will be an offer completion record in the data set; however, the customer was not influenced by the offer because the customer never viewed the offer.\n",
    "\n",
    "### Cleaning\n",
    "\n",
    "This makes data cleaning especially important and tricky.\n",
    "\n",
    "You'll also want to take into account that some demographic groups will make purchases even if they don't receive an offer. From a business perspective, if a customer is going to make a 10 dollar purchase without an offer anyway, you wouldn't want to send a buy 10 dollars get 2 dollars off offer. You'll want to try to assess what a certain demographic group will buy when not receiving any offers.\n",
    "\n",
    "### Final Advice\n",
    "\n",
    "Because this is a capstone project, you are free to analyze the data any way you see fit. For example, you could build a machine learning model that predicts how much someone will spend based on demographics and offer type. Or you could build a model that predicts whether or not someone will respond to an offer. Or, you don't need to build a machine learning model at all. You could develop a set of heuristics that determine what offer you should send to each customer (i.e., 75 percent of women customers who were 35 years old responded to offer A vs 40 percent from the same demographic to offer B, so send offer A)."
   ]
  },
  {
   "cell_type": "markdown",
   "metadata": {},
   "source": [
    "### I'm intersting in building a model that predicts whether or not someone will respond to an offer. "
   ]
  },
  {
   "cell_type": "markdown",
   "metadata": {},
   "source": [
    "# Data Sets\n",
    "\n",
    "The data is contained in three files:\n",
    "\n",
    "* portfolio.json - containing offer ids and meta data about each offer (duration, type, etc.)\n",
    "* profile.json - demographic data for each customer\n",
    "* transcript.json - records for transactions, offers received, offers viewed, and offers completed\n",
    "\n",
    "Here is the schema and explanation of each variable in the files:\n",
    "\n",
    "**portfolio.json**\n",
    "* id (string) - offer id\n",
    "* offer_type (string) - type of offer ie BOGO, discount, informational\n",
    "* difficulty (int) - minimum required spend to complete an offer\n",
    "* reward (int) - reward given for completing an offer\n",
    "* duration (int) - time for offer to be open, in days\n",
    "* channels (list of strings)\n",
    "\n",
    "**profile.json**\n",
    "* age (int) - age of the customer \n",
    "* became_member_on (int) - date when customer created an app account\n",
    "* gender (str) - gender of the customer (note some entries contain 'O' for other rather than M or F)\n",
    "* id (str) - customer id\n",
    "* income (float) - customer's income\n",
    "\n",
    "**transcript.json**\n",
    "* event (str) - record description (ie transaction, offer received, offer viewed, etc.)\n",
    "* person (str) - customer id\n",
    "* time (int) - time in hours since start of test. The data begins at time t=0\n",
    "* value - (dict of strings) - either an offer id or transaction amount depending on the record\n",
    "\n",
    "**Note:** If you are using the workspace, you will need to go to the terminal and run the command `conda update pandas` before reading in the files. This is because the version of pandas in the workspace cannot read in the transcript.json file correctly, but the newest version of pandas can. You can access the termnal from the orange icon in the top left of this notebook.  \n",
    "\n",
    "You can see how to access the terminal and how the install works using the two images below.  First you need to access the terminal:\n",
    "\n",
    "<img src=\"pic1.png\"/>\n",
    "\n",
    "Then you will want to run the above command:\n",
    "\n",
    "<img src=\"pic2.png\"/>\n",
    "\n",
    "Finally, when you enter back into the notebook (use the jupyter icon again), you should be able to run the below cell without any errors."
   ]
  },
  {
   "cell_type": "code",
   "execution_count": 1,
   "metadata": {},
   "outputs": [],
   "source": [
    "import pandas as pd\n",
    "import numpy as np\n",
    "import math\n",
    "import json\n",
    "% matplotlib inline\n",
    "\n",
    "from sklearn.model_selection import train_test_split\n",
    "from sklearn.ensemble import RandomForestClassifier\n",
    "from sklearn.metrics import classification_report, accuracy_score, precision_score, recall_score, f1_score\n",
    "from sklearn.tree import DecisionTreeClassifier\n",
    "from sklearn.linear_model import LogisticRegression\n",
    "from sklearn.neighbors import KNeighborsClassifier\n",
    "from sklearn.model_selection import GridSearchCV\n",
    "import matplotlib.pyplot as plt\n",
    "import seaborn as sb\n",
    "\n",
    "\n",
    "\n",
    "\n",
    "\n",
    "# read in the json files\n",
    "portfolio = pd.read_json('data/portfolio.json', orient='records', lines=True)\n",
    "profile = pd.read_json('data/profile.json', orient='records', lines=True)\n",
    "transcript = pd.read_json('data/transcript.json', orient='records', lines=True)"
   ]
  },
  {
   "cell_type": "markdown",
   "metadata": {},
   "source": [
    "## Data Understanding"
   ]
  },
  {
   "cell_type": "code",
   "execution_count": 2,
   "metadata": {},
   "outputs": [
    {
     "data": {
      "text/html": [
       "<div>\n",
       "<style scoped>\n",
       "    .dataframe tbody tr th:only-of-type {\n",
       "        vertical-align: middle;\n",
       "    }\n",
       "\n",
       "    .dataframe tbody tr th {\n",
       "        vertical-align: top;\n",
       "    }\n",
       "\n",
       "    .dataframe thead th {\n",
       "        text-align: right;\n",
       "    }\n",
       "</style>\n",
       "<table border=\"1\" class=\"dataframe\">\n",
       "  <thead>\n",
       "    <tr style=\"text-align: right;\">\n",
       "      <th></th>\n",
       "      <th>channels</th>\n",
       "      <th>difficulty</th>\n",
       "      <th>duration</th>\n",
       "      <th>offer_id</th>\n",
       "      <th>offer_type</th>\n",
       "      <th>reward</th>\n",
       "    </tr>\n",
       "  </thead>\n",
       "  <tbody>\n",
       "    <tr>\n",
       "      <th>0</th>\n",
       "      <td>[email, mobile, social]</td>\n",
       "      <td>10</td>\n",
       "      <td>7</td>\n",
       "      <td>ae264e3637204a6fb9bb56bc8210ddfd</td>\n",
       "      <td>bogo</td>\n",
       "      <td>10</td>\n",
       "    </tr>\n",
       "    <tr>\n",
       "      <th>1</th>\n",
       "      <td>[web, email, mobile, social]</td>\n",
       "      <td>10</td>\n",
       "      <td>5</td>\n",
       "      <td>4d5c57ea9a6940dd891ad53e9dbe8da0</td>\n",
       "      <td>bogo</td>\n",
       "      <td>10</td>\n",
       "    </tr>\n",
       "    <tr>\n",
       "      <th>2</th>\n",
       "      <td>[web, email, mobile]</td>\n",
       "      <td>0</td>\n",
       "      <td>4</td>\n",
       "      <td>3f207df678b143eea3cee63160fa8bed</td>\n",
       "      <td>informational</td>\n",
       "      <td>0</td>\n",
       "    </tr>\n",
       "    <tr>\n",
       "      <th>3</th>\n",
       "      <td>[web, email, mobile]</td>\n",
       "      <td>5</td>\n",
       "      <td>7</td>\n",
       "      <td>9b98b8c7a33c4b65b9aebfe6a799e6d9</td>\n",
       "      <td>bogo</td>\n",
       "      <td>5</td>\n",
       "    </tr>\n",
       "    <tr>\n",
       "      <th>4</th>\n",
       "      <td>[web, email]</td>\n",
       "      <td>20</td>\n",
       "      <td>10</td>\n",
       "      <td>0b1e1539f2cc45b7b9fa7c272da2e1d7</td>\n",
       "      <td>discount</td>\n",
       "      <td>5</td>\n",
       "    </tr>\n",
       "  </tbody>\n",
       "</table>\n",
       "</div>"
      ],
      "text/plain": [
       "                       channels  difficulty  duration  \\\n",
       "0       [email, mobile, social]          10         7   \n",
       "1  [web, email, mobile, social]          10         5   \n",
       "2          [web, email, mobile]           0         4   \n",
       "3          [web, email, mobile]           5         7   \n",
       "4                  [web, email]          20        10   \n",
       "\n",
       "                           offer_id     offer_type  reward  \n",
       "0  ae264e3637204a6fb9bb56bc8210ddfd           bogo      10  \n",
       "1  4d5c57ea9a6940dd891ad53e9dbe8da0           bogo      10  \n",
       "2  3f207df678b143eea3cee63160fa8bed  informational       0  \n",
       "3  9b98b8c7a33c4b65b9aebfe6a799e6d9           bogo       5  \n",
       "4  0b1e1539f2cc45b7b9fa7c272da2e1d7       discount       5  "
      ]
     },
     "execution_count": 2,
     "metadata": {},
     "output_type": "execute_result"
    }
   ],
   "source": [
    "portfolio.rename(columns = {'id':'offer_id'}, inplace=True)\n",
    "portfolio.head()"
   ]
  },
  {
   "cell_type": "code",
   "execution_count": 3,
   "metadata": {},
   "outputs": [
    {
     "data": {
      "text/html": [
       "<div>\n",
       "<style scoped>\n",
       "    .dataframe tbody tr th:only-of-type {\n",
       "        vertical-align: middle;\n",
       "    }\n",
       "\n",
       "    .dataframe tbody tr th {\n",
       "        vertical-align: top;\n",
       "    }\n",
       "\n",
       "    .dataframe thead th {\n",
       "        text-align: right;\n",
       "    }\n",
       "</style>\n",
       "<table border=\"1\" class=\"dataframe\">\n",
       "  <thead>\n",
       "    <tr style=\"text-align: right;\">\n",
       "      <th></th>\n",
       "      <th>age</th>\n",
       "      <th>became_member_on</th>\n",
       "      <th>gender</th>\n",
       "      <th>customer_id</th>\n",
       "      <th>income</th>\n",
       "    </tr>\n",
       "  </thead>\n",
       "  <tbody>\n",
       "    <tr>\n",
       "      <th>0</th>\n",
       "      <td>118</td>\n",
       "      <td>20170212</td>\n",
       "      <td>None</td>\n",
       "      <td>68be06ca386d4c31939f3a4f0e3dd783</td>\n",
       "      <td>NaN</td>\n",
       "    </tr>\n",
       "    <tr>\n",
       "      <th>1</th>\n",
       "      <td>55</td>\n",
       "      <td>20170715</td>\n",
       "      <td>F</td>\n",
       "      <td>0610b486422d4921ae7d2bf64640c50b</td>\n",
       "      <td>112000.0</td>\n",
       "    </tr>\n",
       "    <tr>\n",
       "      <th>2</th>\n",
       "      <td>118</td>\n",
       "      <td>20180712</td>\n",
       "      <td>None</td>\n",
       "      <td>38fe809add3b4fcf9315a9694bb96ff5</td>\n",
       "      <td>NaN</td>\n",
       "    </tr>\n",
       "    <tr>\n",
       "      <th>3</th>\n",
       "      <td>75</td>\n",
       "      <td>20170509</td>\n",
       "      <td>F</td>\n",
       "      <td>78afa995795e4d85b5d9ceeca43f5fef</td>\n",
       "      <td>100000.0</td>\n",
       "    </tr>\n",
       "    <tr>\n",
       "      <th>4</th>\n",
       "      <td>118</td>\n",
       "      <td>20170804</td>\n",
       "      <td>None</td>\n",
       "      <td>a03223e636434f42ac4c3df47e8bac43</td>\n",
       "      <td>NaN</td>\n",
       "    </tr>\n",
       "  </tbody>\n",
       "</table>\n",
       "</div>"
      ],
      "text/plain": [
       "   age  became_member_on gender                       customer_id    income\n",
       "0  118          20170212   None  68be06ca386d4c31939f3a4f0e3dd783       NaN\n",
       "1   55          20170715      F  0610b486422d4921ae7d2bf64640c50b  112000.0\n",
       "2  118          20180712   None  38fe809add3b4fcf9315a9694bb96ff5       NaN\n",
       "3   75          20170509      F  78afa995795e4d85b5d9ceeca43f5fef  100000.0\n",
       "4  118          20170804   None  a03223e636434f42ac4c3df47e8bac43       NaN"
      ]
     },
     "execution_count": 3,
     "metadata": {},
     "output_type": "execute_result"
    }
   ],
   "source": [
    "profile.rename(columns = {'id':'customer_id'}, inplace=True)\n",
    "profile.head()"
   ]
  },
  {
   "cell_type": "code",
   "execution_count": 4,
   "metadata": {
    "scrolled": true
   },
   "outputs": [
    {
     "data": {
      "text/html": [
       "<div>\n",
       "<style scoped>\n",
       "    .dataframe tbody tr th:only-of-type {\n",
       "        vertical-align: middle;\n",
       "    }\n",
       "\n",
       "    .dataframe tbody tr th {\n",
       "        vertical-align: top;\n",
       "    }\n",
       "\n",
       "    .dataframe thead th {\n",
       "        text-align: right;\n",
       "    }\n",
       "</style>\n",
       "<table border=\"1\" class=\"dataframe\">\n",
       "  <thead>\n",
       "    <tr style=\"text-align: right;\">\n",
       "      <th></th>\n",
       "      <th>event</th>\n",
       "      <th>person</th>\n",
       "      <th>time</th>\n",
       "      <th>value</th>\n",
       "    </tr>\n",
       "  </thead>\n",
       "  <tbody>\n",
       "    <tr>\n",
       "      <th>12658</th>\n",
       "      <td>offer completed</td>\n",
       "      <td>9fa9ae8f57894cc9a3b8a9bbe0fc1b2f</td>\n",
       "      <td>0</td>\n",
       "      <td>{'offer_id': '2906b810c7d4411798c6938adc9daaa5...</td>\n",
       "    </tr>\n",
       "    <tr>\n",
       "      <th>12672</th>\n",
       "      <td>offer completed</td>\n",
       "      <td>fe97aa22dd3e48c8b143116a8403dd52</td>\n",
       "      <td>0</td>\n",
       "      <td>{'offer_id': 'fafdcd668e3743c1bb461111dcafc2a4...</td>\n",
       "    </tr>\n",
       "    <tr>\n",
       "      <th>12679</th>\n",
       "      <td>offer completed</td>\n",
       "      <td>629fc02d56414d91bca360decdfa9288</td>\n",
       "      <td>0</td>\n",
       "      <td>{'offer_id': '9b98b8c7a33c4b65b9aebfe6a799e6d9...</td>\n",
       "    </tr>\n",
       "    <tr>\n",
       "      <th>12692</th>\n",
       "      <td>offer completed</td>\n",
       "      <td>676506bad68e4161b9bbaffeb039626b</td>\n",
       "      <td>0</td>\n",
       "      <td>{'offer_id': 'ae264e3637204a6fb9bb56bc8210ddfd...</td>\n",
       "    </tr>\n",
       "    <tr>\n",
       "      <th>12697</th>\n",
       "      <td>offer completed</td>\n",
       "      <td>8f7dd3b2afe14c078eb4f6e6fe4ba97d</td>\n",
       "      <td>0</td>\n",
       "      <td>{'offer_id': '4d5c57ea9a6940dd891ad53e9dbe8da0...</td>\n",
       "    </tr>\n",
       "    <tr>\n",
       "      <th>12717</th>\n",
       "      <td>offer completed</td>\n",
       "      <td>227f2d69e46a4899b70d48182822cff6</td>\n",
       "      <td>0</td>\n",
       "      <td>{'offer_id': '4d5c57ea9a6940dd891ad53e9dbe8da0...</td>\n",
       "    </tr>\n",
       "    <tr>\n",
       "      <th>12721</th>\n",
       "      <td>offer completed</td>\n",
       "      <td>bb0f25e23a4c4de6a645527c275cd594</td>\n",
       "      <td>0</td>\n",
       "      <td>{'offer_id': '2298d6c36e964ae4a3e7e9706d1fb8c2...</td>\n",
       "    </tr>\n",
       "    <tr>\n",
       "      <th>12744</th>\n",
       "      <td>offer completed</td>\n",
       "      <td>d72d201be5794279aa716d8ad82b8d90</td>\n",
       "      <td>0</td>\n",
       "      <td>{'offer_id': 'f19421c1d4aa40978ebb69ca19b0e20d...</td>\n",
       "    </tr>\n",
       "    <tr>\n",
       "      <th>12764</th>\n",
       "      <td>offer completed</td>\n",
       "      <td>73ffefd41e9a4ca3ab26b2b3697c6eb7</td>\n",
       "      <td>0</td>\n",
       "      <td>{'offer_id': '2906b810c7d4411798c6938adc9daaa5...</td>\n",
       "    </tr>\n",
       "    <tr>\n",
       "      <th>12767</th>\n",
       "      <td>offer completed</td>\n",
       "      <td>3e621194f72e40d7a0b695ee9b7c38b7</td>\n",
       "      <td>0</td>\n",
       "      <td>{'offer_id': '4d5c57ea9a6940dd891ad53e9dbe8da0...</td>\n",
       "    </tr>\n",
       "    <tr>\n",
       "      <th>12780</th>\n",
       "      <td>offer completed</td>\n",
       "      <td>b860d355ef6e4c66b5d5a837c56ef32d</td>\n",
       "      <td>0</td>\n",
       "      <td>{'offer_id': '9b98b8c7a33c4b65b9aebfe6a799e6d9...</td>\n",
       "    </tr>\n",
       "    <tr>\n",
       "      <th>12784</th>\n",
       "      <td>offer completed</td>\n",
       "      <td>99297ea01107436fa8c2e2bc86f55d89</td>\n",
       "      <td>0</td>\n",
       "      <td>{'offer_id': '9b98b8c7a33c4b65b9aebfe6a799e6d9...</td>\n",
       "    </tr>\n",
       "    <tr>\n",
       "      <th>12786</th>\n",
       "      <td>offer completed</td>\n",
       "      <td>24115a61df25473e84a8a03f3c98de1a</td>\n",
       "      <td>0</td>\n",
       "      <td>{'offer_id': '2906b810c7d4411798c6938adc9daaa5...</td>\n",
       "    </tr>\n",
       "    <tr>\n",
       "      <th>12798</th>\n",
       "      <td>offer completed</td>\n",
       "      <td>afce4cf8194f4e90a3e92da941a23601</td>\n",
       "      <td>0</td>\n",
       "      <td>{'offer_id': 'ae264e3637204a6fb9bb56bc8210ddfd...</td>\n",
       "    </tr>\n",
       "    <tr>\n",
       "      <th>12817</th>\n",
       "      <td>offer completed</td>\n",
       "      <td>a2ffc22184d94d6fa21b924eb49c0d06</td>\n",
       "      <td>0</td>\n",
       "      <td>{'offer_id': '2298d6c36e964ae4a3e7e9706d1fb8c2...</td>\n",
       "    </tr>\n",
       "    <tr>\n",
       "      <th>12826</th>\n",
       "      <td>offer completed</td>\n",
       "      <td>2481f1fcfbcb4b288e5a03af02d95373</td>\n",
       "      <td>0</td>\n",
       "      <td>{'offer_id': '2906b810c7d4411798c6938adc9daaa5...</td>\n",
       "    </tr>\n",
       "    <tr>\n",
       "      <th>12835</th>\n",
       "      <td>offer completed</td>\n",
       "      <td>c3321bc76743445c9103eef0ce9d833b</td>\n",
       "      <td>0</td>\n",
       "      <td>{'offer_id': '2298d6c36e964ae4a3e7e9706d1fb8c2...</td>\n",
       "    </tr>\n",
       "    <tr>\n",
       "      <th>12841</th>\n",
       "      <td>offer completed</td>\n",
       "      <td>162e7d9c644b438ea4606e337df0d3d1</td>\n",
       "      <td>0</td>\n",
       "      <td>{'offer_id': '2298d6c36e964ae4a3e7e9706d1fb8c2...</td>\n",
       "    </tr>\n",
       "    <tr>\n",
       "      <th>12862</th>\n",
       "      <td>offer completed</td>\n",
       "      <td>de90515e9f174ddfb8b4c677448286ef</td>\n",
       "      <td>0</td>\n",
       "      <td>{'offer_id': 'ae264e3637204a6fb9bb56bc8210ddfd...</td>\n",
       "    </tr>\n",
       "    <tr>\n",
       "      <th>12865</th>\n",
       "      <td>offer completed</td>\n",
       "      <td>5152fa6375184287b06e2fd0d5abed34</td>\n",
       "      <td>0</td>\n",
       "      <td>{'offer_id': 'f19421c1d4aa40978ebb69ca19b0e20d...</td>\n",
       "    </tr>\n",
       "    <tr>\n",
       "      <th>12900</th>\n",
       "      <td>offer completed</td>\n",
       "      <td>5d048a36203c483facb5ed09983ab388</td>\n",
       "      <td>0</td>\n",
       "      <td>{'offer_id': '4d5c57ea9a6940dd891ad53e9dbe8da0...</td>\n",
       "    </tr>\n",
       "    <tr>\n",
       "      <th>12936</th>\n",
       "      <td>offer completed</td>\n",
       "      <td>16dc4306258b4fef90ffe99f53ed7952</td>\n",
       "      <td>0</td>\n",
       "      <td>{'offer_id': '9b98b8c7a33c4b65b9aebfe6a799e6d9...</td>\n",
       "    </tr>\n",
       "    <tr>\n",
       "      <th>12943</th>\n",
       "      <td>offer completed</td>\n",
       "      <td>2c9a9137efff4820a47d56dbf0fa555f</td>\n",
       "      <td>0</td>\n",
       "      <td>{'offer_id': 'f19421c1d4aa40978ebb69ca19b0e20d...</td>\n",
       "    </tr>\n",
       "    <tr>\n",
       "      <th>12972</th>\n",
       "      <td>offer completed</td>\n",
       "      <td>bf7a630d566f46f79b855990daf2d0b0</td>\n",
       "      <td>0</td>\n",
       "      <td>{'offer_id': '2298d6c36e964ae4a3e7e9706d1fb8c2...</td>\n",
       "    </tr>\n",
       "    <tr>\n",
       "      <th>12988</th>\n",
       "      <td>offer completed</td>\n",
       "      <td>3b78a727167b432d8e1935227b286def</td>\n",
       "      <td>0</td>\n",
       "      <td>{'offer_id': 'fafdcd668e3743c1bb461111dcafc2a4...</td>\n",
       "    </tr>\n",
       "    <tr>\n",
       "      <th>12997</th>\n",
       "      <td>offer completed</td>\n",
       "      <td>6d11a027be6c4fac98d27eec516ad2f6</td>\n",
       "      <td>0</td>\n",
       "      <td>{'offer_id': 'fafdcd668e3743c1bb461111dcafc2a4...</td>\n",
       "    </tr>\n",
       "    <tr>\n",
       "      <th>13021</th>\n",
       "      <td>offer completed</td>\n",
       "      <td>0454292436bd4cee98e8ec873e30433e</td>\n",
       "      <td>0</td>\n",
       "      <td>{'offer_id': '9b98b8c7a33c4b65b9aebfe6a799e6d9...</td>\n",
       "    </tr>\n",
       "    <tr>\n",
       "      <th>13036</th>\n",
       "      <td>offer completed</td>\n",
       "      <td>60b8a75638d2461b988ba4f089f8ad24</td>\n",
       "      <td>0</td>\n",
       "      <td>{'offer_id': '9b98b8c7a33c4b65b9aebfe6a799e6d9...</td>\n",
       "    </tr>\n",
       "    <tr>\n",
       "      <th>13043</th>\n",
       "      <td>offer completed</td>\n",
       "      <td>9299c46942f84bb6b5e98fd78fbb9d41</td>\n",
       "      <td>0</td>\n",
       "      <td>{'offer_id': 'fafdcd668e3743c1bb461111dcafc2a4...</td>\n",
       "    </tr>\n",
       "    <tr>\n",
       "      <th>13056</th>\n",
       "      <td>offer completed</td>\n",
       "      <td>69d148898a80483babb0f9b2f2cccf5a</td>\n",
       "      <td>0</td>\n",
       "      <td>{'offer_id': 'f19421c1d4aa40978ebb69ca19b0e20d...</td>\n",
       "    </tr>\n",
       "    <tr>\n",
       "      <th>...</th>\n",
       "      <td>...</td>\n",
       "      <td>...</td>\n",
       "      <td>...</td>\n",
       "      <td>...</td>\n",
       "    </tr>\n",
       "    <tr>\n",
       "      <th>306249</th>\n",
       "      <td>offer completed</td>\n",
       "      <td>2c2a1a03e7bf49febd39594ce9eb08bb</td>\n",
       "      <td>714</td>\n",
       "      <td>{'offer_id': '2298d6c36e964ae4a3e7e9706d1fb8c2...</td>\n",
       "    </tr>\n",
       "    <tr>\n",
       "      <th>306255</th>\n",
       "      <td>offer completed</td>\n",
       "      <td>3a17105cc12e4fc9aabc7c324835ba9c</td>\n",
       "      <td>714</td>\n",
       "      <td>{'offer_id': '9b98b8c7a33c4b65b9aebfe6a799e6d9...</td>\n",
       "    </tr>\n",
       "    <tr>\n",
       "      <th>306260</th>\n",
       "      <td>offer completed</td>\n",
       "      <td>7718656997f3453db0f5aeca9cd35240</td>\n",
       "      <td>714</td>\n",
       "      <td>{'offer_id': '9b98b8c7a33c4b65b9aebfe6a799e6d9...</td>\n",
       "    </tr>\n",
       "    <tr>\n",
       "      <th>306265</th>\n",
       "      <td>offer completed</td>\n",
       "      <td>2a109589d81b49fb891bd526e121c1c9</td>\n",
       "      <td>714</td>\n",
       "      <td>{'offer_id': '9b98b8c7a33c4b65b9aebfe6a799e6d9...</td>\n",
       "    </tr>\n",
       "    <tr>\n",
       "      <th>306284</th>\n",
       "      <td>offer completed</td>\n",
       "      <td>0fa9cb0814914f778995e061d4460e1a</td>\n",
       "      <td>714</td>\n",
       "      <td>{'offer_id': '2906b810c7d4411798c6938adc9daaa5...</td>\n",
       "    </tr>\n",
       "    <tr>\n",
       "      <th>306292</th>\n",
       "      <td>offer completed</td>\n",
       "      <td>8692060470dd472385a617029e19fc91</td>\n",
       "      <td>714</td>\n",
       "      <td>{'offer_id': '9b98b8c7a33c4b65b9aebfe6a799e6d9...</td>\n",
       "    </tr>\n",
       "    <tr>\n",
       "      <th>306295</th>\n",
       "      <td>offer completed</td>\n",
       "      <td>264f1758fc9744a9badd3906364a598a</td>\n",
       "      <td>714</td>\n",
       "      <td>{'offer_id': '2906b810c7d4411798c6938adc9daaa5...</td>\n",
       "    </tr>\n",
       "    <tr>\n",
       "      <th>306306</th>\n",
       "      <td>offer completed</td>\n",
       "      <td>0f1d40baf5fd438ea8d699a721467c1b</td>\n",
       "      <td>714</td>\n",
       "      <td>{'offer_id': 'ae264e3637204a6fb9bb56bc8210ddfd...</td>\n",
       "    </tr>\n",
       "    <tr>\n",
       "      <th>306340</th>\n",
       "      <td>offer completed</td>\n",
       "      <td>845c31e647b449479f30b36eac5c5856</td>\n",
       "      <td>714</td>\n",
       "      <td>{'offer_id': '2906b810c7d4411798c6938adc9daaa5...</td>\n",
       "    </tr>\n",
       "    <tr>\n",
       "      <th>306344</th>\n",
       "      <td>offer completed</td>\n",
       "      <td>b73c8d5fe3c84a79bb3432387f0f4fb5</td>\n",
       "      <td>714</td>\n",
       "      <td>{'offer_id': '9b98b8c7a33c4b65b9aebfe6a799e6d9...</td>\n",
       "    </tr>\n",
       "    <tr>\n",
       "      <th>306348</th>\n",
       "      <td>offer completed</td>\n",
       "      <td>087d0fcdbf294f7494a96d8d6a56cf41</td>\n",
       "      <td>714</td>\n",
       "      <td>{'offer_id': '9b98b8c7a33c4b65b9aebfe6a799e6d9...</td>\n",
       "    </tr>\n",
       "    <tr>\n",
       "      <th>306357</th>\n",
       "      <td>offer completed</td>\n",
       "      <td>a3fa9c5ae07348f0ad9c6942a17e063b</td>\n",
       "      <td>714</td>\n",
       "      <td>{'offer_id': '2298d6c36e964ae4a3e7e9706d1fb8c2...</td>\n",
       "    </tr>\n",
       "    <tr>\n",
       "      <th>306365</th>\n",
       "      <td>offer completed</td>\n",
       "      <td>557e2c8128334f00bbe020595885b9c4</td>\n",
       "      <td>714</td>\n",
       "      <td>{'offer_id': 'fafdcd668e3743c1bb461111dcafc2a4...</td>\n",
       "    </tr>\n",
       "    <tr>\n",
       "      <th>306374</th>\n",
       "      <td>offer completed</td>\n",
       "      <td>2d868dda028f445b8c7f592d33077229</td>\n",
       "      <td>714</td>\n",
       "      <td>{'offer_id': 'fafdcd668e3743c1bb461111dcafc2a4...</td>\n",
       "    </tr>\n",
       "    <tr>\n",
       "      <th>306376</th>\n",
       "      <td>offer completed</td>\n",
       "      <td>0dc85918181e4c3eb0e412d37fa8a552</td>\n",
       "      <td>714</td>\n",
       "      <td>{'offer_id': '0b1e1539f2cc45b7b9fa7c272da2e1d7...</td>\n",
       "    </tr>\n",
       "    <tr>\n",
       "      <th>306404</th>\n",
       "      <td>offer completed</td>\n",
       "      <td>6f3fe50d1f26409f94489a85c766f79e</td>\n",
       "      <td>714</td>\n",
       "      <td>{'offer_id': 'ae264e3637204a6fb9bb56bc8210ddfd...</td>\n",
       "    </tr>\n",
       "    <tr>\n",
       "      <th>306407</th>\n",
       "      <td>offer completed</td>\n",
       "      <td>7f0d9541dc284bb5b390c863644f04cd</td>\n",
       "      <td>714</td>\n",
       "      <td>{'offer_id': '2298d6c36e964ae4a3e7e9706d1fb8c2...</td>\n",
       "    </tr>\n",
       "    <tr>\n",
       "      <th>306410</th>\n",
       "      <td>offer completed</td>\n",
       "      <td>b13eaeb7a91e415a972c9ebc7f63ac57</td>\n",
       "      <td>714</td>\n",
       "      <td>{'offer_id': '9b98b8c7a33c4b65b9aebfe6a799e6d9...</td>\n",
       "    </tr>\n",
       "    <tr>\n",
       "      <th>306423</th>\n",
       "      <td>offer completed</td>\n",
       "      <td>8771f96bc7f947c09a8f78ee2e14a1a7</td>\n",
       "      <td>714</td>\n",
       "      <td>{'offer_id': '9b98b8c7a33c4b65b9aebfe6a799e6d9...</td>\n",
       "    </tr>\n",
       "    <tr>\n",
       "      <th>306430</th>\n",
       "      <td>offer completed</td>\n",
       "      <td>0355c6a5fdbc429ea5b05e8a9ecd2eae</td>\n",
       "      <td>714</td>\n",
       "      <td>{'offer_id': '9b98b8c7a33c4b65b9aebfe6a799e6d9...</td>\n",
       "    </tr>\n",
       "    <tr>\n",
       "      <th>306440</th>\n",
       "      <td>offer completed</td>\n",
       "      <td>f74033a8c6834303bd1b3ef0c98d11d8</td>\n",
       "      <td>714</td>\n",
       "      <td>{'offer_id': '0b1e1539f2cc45b7b9fa7c272da2e1d7...</td>\n",
       "    </tr>\n",
       "    <tr>\n",
       "      <th>306444</th>\n",
       "      <td>offer completed</td>\n",
       "      <td>84ad352984b04b73b6dbff8d719de321</td>\n",
       "      <td>714</td>\n",
       "      <td>{'offer_id': '9b98b8c7a33c4b65b9aebfe6a799e6d9...</td>\n",
       "    </tr>\n",
       "    <tr>\n",
       "      <th>306455</th>\n",
       "      <td>offer completed</td>\n",
       "      <td>f3e801caeafe4899b3b989b586e74ac7</td>\n",
       "      <td>714</td>\n",
       "      <td>{'offer_id': '0b1e1539f2cc45b7b9fa7c272da2e1d7...</td>\n",
       "    </tr>\n",
       "    <tr>\n",
       "      <th>306456</th>\n",
       "      <td>offer completed</td>\n",
       "      <td>f3e801caeafe4899b3b989b586e74ac7</td>\n",
       "      <td>714</td>\n",
       "      <td>{'offer_id': '0b1e1539f2cc45b7b9fa7c272da2e1d7...</td>\n",
       "    </tr>\n",
       "    <tr>\n",
       "      <th>306470</th>\n",
       "      <td>offer completed</td>\n",
       "      <td>452cdae2c68e4732a4177d3929562690</td>\n",
       "      <td>714</td>\n",
       "      <td>{'offer_id': 'fafdcd668e3743c1bb461111dcafc2a4...</td>\n",
       "    </tr>\n",
       "    <tr>\n",
       "      <th>306475</th>\n",
       "      <td>offer completed</td>\n",
       "      <td>0c027f5f34dd4b9eba0a25785c611273</td>\n",
       "      <td>714</td>\n",
       "      <td>{'offer_id': '2298d6c36e964ae4a3e7e9706d1fb8c2...</td>\n",
       "    </tr>\n",
       "    <tr>\n",
       "      <th>306497</th>\n",
       "      <td>offer completed</td>\n",
       "      <td>a6f84f4e976f44508c358cc9aba6d2b3</td>\n",
       "      <td>714</td>\n",
       "      <td>{'offer_id': '2298d6c36e964ae4a3e7e9706d1fb8c2...</td>\n",
       "    </tr>\n",
       "    <tr>\n",
       "      <th>306506</th>\n",
       "      <td>offer completed</td>\n",
       "      <td>b895c57e8cd047a8872ce02aa54759d6</td>\n",
       "      <td>714</td>\n",
       "      <td>{'offer_id': 'fafdcd668e3743c1bb461111dcafc2a4...</td>\n",
       "    </tr>\n",
       "    <tr>\n",
       "      <th>306509</th>\n",
       "      <td>offer completed</td>\n",
       "      <td>8431c16f8e1d440880db371a68f82dd0</td>\n",
       "      <td>714</td>\n",
       "      <td>{'offer_id': 'fafdcd668e3743c1bb461111dcafc2a4...</td>\n",
       "    </tr>\n",
       "    <tr>\n",
       "      <th>306527</th>\n",
       "      <td>offer completed</td>\n",
       "      <td>24f56b5e1849462093931b164eb803b5</td>\n",
       "      <td>714</td>\n",
       "      <td>{'offer_id': 'fafdcd668e3743c1bb461111dcafc2a4...</td>\n",
       "    </tr>\n",
       "  </tbody>\n",
       "</table>\n",
       "<p>33579 rows × 4 columns</p>\n",
       "</div>"
      ],
      "text/plain": [
       "                  event                            person  time  \\\n",
       "12658   offer completed  9fa9ae8f57894cc9a3b8a9bbe0fc1b2f     0   \n",
       "12672   offer completed  fe97aa22dd3e48c8b143116a8403dd52     0   \n",
       "12679   offer completed  629fc02d56414d91bca360decdfa9288     0   \n",
       "12692   offer completed  676506bad68e4161b9bbaffeb039626b     0   \n",
       "12697   offer completed  8f7dd3b2afe14c078eb4f6e6fe4ba97d     0   \n",
       "12717   offer completed  227f2d69e46a4899b70d48182822cff6     0   \n",
       "12721   offer completed  bb0f25e23a4c4de6a645527c275cd594     0   \n",
       "12744   offer completed  d72d201be5794279aa716d8ad82b8d90     0   \n",
       "12764   offer completed  73ffefd41e9a4ca3ab26b2b3697c6eb7     0   \n",
       "12767   offer completed  3e621194f72e40d7a0b695ee9b7c38b7     0   \n",
       "12780   offer completed  b860d355ef6e4c66b5d5a837c56ef32d     0   \n",
       "12784   offer completed  99297ea01107436fa8c2e2bc86f55d89     0   \n",
       "12786   offer completed  24115a61df25473e84a8a03f3c98de1a     0   \n",
       "12798   offer completed  afce4cf8194f4e90a3e92da941a23601     0   \n",
       "12817   offer completed  a2ffc22184d94d6fa21b924eb49c0d06     0   \n",
       "12826   offer completed  2481f1fcfbcb4b288e5a03af02d95373     0   \n",
       "12835   offer completed  c3321bc76743445c9103eef0ce9d833b     0   \n",
       "12841   offer completed  162e7d9c644b438ea4606e337df0d3d1     0   \n",
       "12862   offer completed  de90515e9f174ddfb8b4c677448286ef     0   \n",
       "12865   offer completed  5152fa6375184287b06e2fd0d5abed34     0   \n",
       "12900   offer completed  5d048a36203c483facb5ed09983ab388     0   \n",
       "12936   offer completed  16dc4306258b4fef90ffe99f53ed7952     0   \n",
       "12943   offer completed  2c9a9137efff4820a47d56dbf0fa555f     0   \n",
       "12972   offer completed  bf7a630d566f46f79b855990daf2d0b0     0   \n",
       "12988   offer completed  3b78a727167b432d8e1935227b286def     0   \n",
       "12997   offer completed  6d11a027be6c4fac98d27eec516ad2f6     0   \n",
       "13021   offer completed  0454292436bd4cee98e8ec873e30433e     0   \n",
       "13036   offer completed  60b8a75638d2461b988ba4f089f8ad24     0   \n",
       "13043   offer completed  9299c46942f84bb6b5e98fd78fbb9d41     0   \n",
       "13056   offer completed  69d148898a80483babb0f9b2f2cccf5a     0   \n",
       "...                 ...                               ...   ...   \n",
       "306249  offer completed  2c2a1a03e7bf49febd39594ce9eb08bb   714   \n",
       "306255  offer completed  3a17105cc12e4fc9aabc7c324835ba9c   714   \n",
       "306260  offer completed  7718656997f3453db0f5aeca9cd35240   714   \n",
       "306265  offer completed  2a109589d81b49fb891bd526e121c1c9   714   \n",
       "306284  offer completed  0fa9cb0814914f778995e061d4460e1a   714   \n",
       "306292  offer completed  8692060470dd472385a617029e19fc91   714   \n",
       "306295  offer completed  264f1758fc9744a9badd3906364a598a   714   \n",
       "306306  offer completed  0f1d40baf5fd438ea8d699a721467c1b   714   \n",
       "306340  offer completed  845c31e647b449479f30b36eac5c5856   714   \n",
       "306344  offer completed  b73c8d5fe3c84a79bb3432387f0f4fb5   714   \n",
       "306348  offer completed  087d0fcdbf294f7494a96d8d6a56cf41   714   \n",
       "306357  offer completed  a3fa9c5ae07348f0ad9c6942a17e063b   714   \n",
       "306365  offer completed  557e2c8128334f00bbe020595885b9c4   714   \n",
       "306374  offer completed  2d868dda028f445b8c7f592d33077229   714   \n",
       "306376  offer completed  0dc85918181e4c3eb0e412d37fa8a552   714   \n",
       "306404  offer completed  6f3fe50d1f26409f94489a85c766f79e   714   \n",
       "306407  offer completed  7f0d9541dc284bb5b390c863644f04cd   714   \n",
       "306410  offer completed  b13eaeb7a91e415a972c9ebc7f63ac57   714   \n",
       "306423  offer completed  8771f96bc7f947c09a8f78ee2e14a1a7   714   \n",
       "306430  offer completed  0355c6a5fdbc429ea5b05e8a9ecd2eae   714   \n",
       "306440  offer completed  f74033a8c6834303bd1b3ef0c98d11d8   714   \n",
       "306444  offer completed  84ad352984b04b73b6dbff8d719de321   714   \n",
       "306455  offer completed  f3e801caeafe4899b3b989b586e74ac7   714   \n",
       "306456  offer completed  f3e801caeafe4899b3b989b586e74ac7   714   \n",
       "306470  offer completed  452cdae2c68e4732a4177d3929562690   714   \n",
       "306475  offer completed  0c027f5f34dd4b9eba0a25785c611273   714   \n",
       "306497  offer completed  a6f84f4e976f44508c358cc9aba6d2b3   714   \n",
       "306506  offer completed  b895c57e8cd047a8872ce02aa54759d6   714   \n",
       "306509  offer completed  8431c16f8e1d440880db371a68f82dd0   714   \n",
       "306527  offer completed  24f56b5e1849462093931b164eb803b5   714   \n",
       "\n",
       "                                                    value  \n",
       "12658   {'offer_id': '2906b810c7d4411798c6938adc9daaa5...  \n",
       "12672   {'offer_id': 'fafdcd668e3743c1bb461111dcafc2a4...  \n",
       "12679   {'offer_id': '9b98b8c7a33c4b65b9aebfe6a799e6d9...  \n",
       "12692   {'offer_id': 'ae264e3637204a6fb9bb56bc8210ddfd...  \n",
       "12697   {'offer_id': '4d5c57ea9a6940dd891ad53e9dbe8da0...  \n",
       "12717   {'offer_id': '4d5c57ea9a6940dd891ad53e9dbe8da0...  \n",
       "12721   {'offer_id': '2298d6c36e964ae4a3e7e9706d1fb8c2...  \n",
       "12744   {'offer_id': 'f19421c1d4aa40978ebb69ca19b0e20d...  \n",
       "12764   {'offer_id': '2906b810c7d4411798c6938adc9daaa5...  \n",
       "12767   {'offer_id': '4d5c57ea9a6940dd891ad53e9dbe8da0...  \n",
       "12780   {'offer_id': '9b98b8c7a33c4b65b9aebfe6a799e6d9...  \n",
       "12784   {'offer_id': '9b98b8c7a33c4b65b9aebfe6a799e6d9...  \n",
       "12786   {'offer_id': '2906b810c7d4411798c6938adc9daaa5...  \n",
       "12798   {'offer_id': 'ae264e3637204a6fb9bb56bc8210ddfd...  \n",
       "12817   {'offer_id': '2298d6c36e964ae4a3e7e9706d1fb8c2...  \n",
       "12826   {'offer_id': '2906b810c7d4411798c6938adc9daaa5...  \n",
       "12835   {'offer_id': '2298d6c36e964ae4a3e7e9706d1fb8c2...  \n",
       "12841   {'offer_id': '2298d6c36e964ae4a3e7e9706d1fb8c2...  \n",
       "12862   {'offer_id': 'ae264e3637204a6fb9bb56bc8210ddfd...  \n",
       "12865   {'offer_id': 'f19421c1d4aa40978ebb69ca19b0e20d...  \n",
       "12900   {'offer_id': '4d5c57ea9a6940dd891ad53e9dbe8da0...  \n",
       "12936   {'offer_id': '9b98b8c7a33c4b65b9aebfe6a799e6d9...  \n",
       "12943   {'offer_id': 'f19421c1d4aa40978ebb69ca19b0e20d...  \n",
       "12972   {'offer_id': '2298d6c36e964ae4a3e7e9706d1fb8c2...  \n",
       "12988   {'offer_id': 'fafdcd668e3743c1bb461111dcafc2a4...  \n",
       "12997   {'offer_id': 'fafdcd668e3743c1bb461111dcafc2a4...  \n",
       "13021   {'offer_id': '9b98b8c7a33c4b65b9aebfe6a799e6d9...  \n",
       "13036   {'offer_id': '9b98b8c7a33c4b65b9aebfe6a799e6d9...  \n",
       "13043   {'offer_id': 'fafdcd668e3743c1bb461111dcafc2a4...  \n",
       "13056   {'offer_id': 'f19421c1d4aa40978ebb69ca19b0e20d...  \n",
       "...                                                   ...  \n",
       "306249  {'offer_id': '2298d6c36e964ae4a3e7e9706d1fb8c2...  \n",
       "306255  {'offer_id': '9b98b8c7a33c4b65b9aebfe6a799e6d9...  \n",
       "306260  {'offer_id': '9b98b8c7a33c4b65b9aebfe6a799e6d9...  \n",
       "306265  {'offer_id': '9b98b8c7a33c4b65b9aebfe6a799e6d9...  \n",
       "306284  {'offer_id': '2906b810c7d4411798c6938adc9daaa5...  \n",
       "306292  {'offer_id': '9b98b8c7a33c4b65b9aebfe6a799e6d9...  \n",
       "306295  {'offer_id': '2906b810c7d4411798c6938adc9daaa5...  \n",
       "306306  {'offer_id': 'ae264e3637204a6fb9bb56bc8210ddfd...  \n",
       "306340  {'offer_id': '2906b810c7d4411798c6938adc9daaa5...  \n",
       "306344  {'offer_id': '9b98b8c7a33c4b65b9aebfe6a799e6d9...  \n",
       "306348  {'offer_id': '9b98b8c7a33c4b65b9aebfe6a799e6d9...  \n",
       "306357  {'offer_id': '2298d6c36e964ae4a3e7e9706d1fb8c2...  \n",
       "306365  {'offer_id': 'fafdcd668e3743c1bb461111dcafc2a4...  \n",
       "306374  {'offer_id': 'fafdcd668e3743c1bb461111dcafc2a4...  \n",
       "306376  {'offer_id': '0b1e1539f2cc45b7b9fa7c272da2e1d7...  \n",
       "306404  {'offer_id': 'ae264e3637204a6fb9bb56bc8210ddfd...  \n",
       "306407  {'offer_id': '2298d6c36e964ae4a3e7e9706d1fb8c2...  \n",
       "306410  {'offer_id': '9b98b8c7a33c4b65b9aebfe6a799e6d9...  \n",
       "306423  {'offer_id': '9b98b8c7a33c4b65b9aebfe6a799e6d9...  \n",
       "306430  {'offer_id': '9b98b8c7a33c4b65b9aebfe6a799e6d9...  \n",
       "306440  {'offer_id': '0b1e1539f2cc45b7b9fa7c272da2e1d7...  \n",
       "306444  {'offer_id': '9b98b8c7a33c4b65b9aebfe6a799e6d9...  \n",
       "306455  {'offer_id': '0b1e1539f2cc45b7b9fa7c272da2e1d7...  \n",
       "306456  {'offer_id': '0b1e1539f2cc45b7b9fa7c272da2e1d7...  \n",
       "306470  {'offer_id': 'fafdcd668e3743c1bb461111dcafc2a4...  \n",
       "306475  {'offer_id': '2298d6c36e964ae4a3e7e9706d1fb8c2...  \n",
       "306497  {'offer_id': '2298d6c36e964ae4a3e7e9706d1fb8c2...  \n",
       "306506  {'offer_id': 'fafdcd668e3743c1bb461111dcafc2a4...  \n",
       "306509  {'offer_id': 'fafdcd668e3743c1bb461111dcafc2a4...  \n",
       "306527  {'offer_id': 'fafdcd668e3743c1bb461111dcafc2a4...  \n",
       "\n",
       "[33579 rows x 4 columns]"
      ]
     },
     "execution_count": 4,
     "metadata": {},
     "output_type": "execute_result"
    }
   ],
   "source": [
    "transcript.query(\" event == 'offer completed'\")"
   ]
  },
  {
   "cell_type": "code",
   "execution_count": 5,
   "metadata": {},
   "outputs": [
    {
     "data": {
      "text/plain": [
       "(10, 6)"
      ]
     },
     "execution_count": 5,
     "metadata": {},
     "output_type": "execute_result"
    }
   ],
   "source": [
    "portfolio.shape"
   ]
  },
  {
   "cell_type": "code",
   "execution_count": 6,
   "metadata": {},
   "outputs": [
    {
     "data": {
      "text/plain": [
       "(17000, 5)"
      ]
     },
     "execution_count": 6,
     "metadata": {},
     "output_type": "execute_result"
    }
   ],
   "source": [
    "profile.shape"
   ]
  },
  {
   "cell_type": "code",
   "execution_count": 7,
   "metadata": {},
   "outputs": [
    {
     "data": {
      "text/plain": [
       "(306534, 4)"
      ]
     },
     "execution_count": 7,
     "metadata": {},
     "output_type": "execute_result"
    }
   ],
   "source": [
    "transcript.shape"
   ]
  },
  {
   "cell_type": "code",
   "execution_count": null,
   "metadata": {},
   "outputs": [],
   "source": []
  },
  {
   "cell_type": "code",
   "execution_count": null,
   "metadata": {},
   "outputs": [],
   "source": []
  },
  {
   "cell_type": "code",
   "execution_count": null,
   "metadata": {},
   "outputs": [],
   "source": []
  },
  {
   "cell_type": "code",
   "execution_count": null,
   "metadata": {},
   "outputs": [],
   "source": []
  },
  {
   "cell_type": "markdown",
   "metadata": {},
   "source": [
    "## Data Preprocessing"
   ]
  },
  {
   "cell_type": "markdown",
   "metadata": {},
   "source": [
    "### Profile"
   ]
  },
  {
   "cell_type": "code",
   "execution_count": 8,
   "metadata": {},
   "outputs": [
    {
     "data": {
      "text/plain": [
       "age                    0\n",
       "became_member_on       0\n",
       "gender              2175\n",
       "customer_id            0\n",
       "income              2175\n",
       "dtype: int64"
      ]
     },
     "execution_count": 8,
     "metadata": {},
     "output_type": "execute_result"
    }
   ],
   "source": [
    "profile.isnull().sum()"
   ]
  },
  {
   "cell_type": "code",
   "execution_count": 9,
   "metadata": {},
   "outputs": [],
   "source": [
    "# Since there are 2175 recored are null I prefer to fill income with mean and gender with most frequint \n",
    "profile['income']=profile['income'].fillna(profile['income'].mean())\n",
    "profile = profile.fillna(profile['gender'].value_counts().index[0])"
   ]
  },
  {
   "cell_type": "code",
   "execution_count": 10,
   "metadata": {},
   "outputs": [
    {
     "data": {
      "text/plain": [
       "False"
      ]
     },
     "execution_count": 10,
     "metadata": {},
     "output_type": "execute_result"
    }
   ],
   "source": [
    "profile.isnull().sum().any()"
   ]
  },
  {
   "cell_type": "code",
   "execution_count": 11,
   "metadata": {
    "scrolled": true
   },
   "outputs": [
    {
     "data": {
      "image/png": "[encoded data removed]",
      "text/plain": [
       "<matplotlib.figure.Figure at 0x7f8f2277ba90>"
      ]
     },
     "metadata": {
      "needs_background": "light"
     },
     "output_type": "display_data"
    }
   ],
   "source": [
    "profile.age.plot(kind='hist');"
   ]
  },
  {
   "cell_type": "markdown",
   "metadata": {},
   "source": [
    "There are about 2500 user above 110 years old which does not make sense, I will fill age column with mean since they seems to be outliers."
   ]
  },
  {
   "cell_type": "code",
   "execution_count": 12,
   "metadata": {},
   "outputs": [],
   "source": [
    "age_mean = profile['age'].mean()\n",
    "profile['age'] = profile['age'].apply(lambda x : age_mean if x >= 110 else x)"
   ]
  },
  {
   "cell_type": "code",
   "execution_count": 13,
   "metadata": {},
   "outputs": [
    {
     "data": {
      "image/png": "[encoded data removed]",
      "text/plain": [
       "<matplotlib.figure.Figure at 0x7f8f226d54e0>"
      ]
     },
     "metadata": {
      "needs_background": "light"
     },
     "output_type": "display_data"
    }
   ],
   "source": [
    "profile.age.plot(kind='hist');"
   ]
  },
  {
   "cell_type": "code",
   "execution_count": 14,
   "metadata": {},
   "outputs": [
    {
     "data": {
      "image/png": "[encoded data removed]",
      "text/plain": [
       "<matplotlib.figure.Figure at 0x7f8f226d5fd0>"
      ]
     },
     "metadata": {
      "needs_background": "light"
     },
     "output_type": "display_data"
    }
   ],
   "source": [
    "profile.income.plot(kind='hist');"
   ]
  },
  {
   "cell_type": "code",
   "execution_count": 15,
   "metadata": {},
   "outputs": [],
   "source": [
    "profile.became_member_on = pd.to_datetime(profile.became_member_on, format='%Y%m%d')\n",
    "profile.became_member_on = pd.DatetimeIndex(profile['became_member_on']).year"
   ]
  },
  {
   "cell_type": "code",
   "execution_count": 16,
   "metadata": {},
   "outputs": [
    {
     "data": {
      "text/html": [
       "<div>\n",
       "<style scoped>\n",
       "    .dataframe tbody tr th:only-of-type {\n",
       "        vertical-align: middle;\n",
       "    }\n",
       "\n",
       "    .dataframe tbody tr th {\n",
       "        vertical-align: top;\n",
       "    }\n",
       "\n",
       "    .dataframe thead th {\n",
       "        text-align: right;\n",
       "    }\n",
       "</style>\n",
       "<table border=\"1\" class=\"dataframe\">\n",
       "  <thead>\n",
       "    <tr style=\"text-align: right;\">\n",
       "      <th></th>\n",
       "      <th>age</th>\n",
       "      <th>became_member_on</th>\n",
       "      <th>gender</th>\n",
       "      <th>customer_id</th>\n",
       "      <th>income</th>\n",
       "    </tr>\n",
       "  </thead>\n",
       "  <tbody>\n",
       "    <tr>\n",
       "      <th>12682</th>\n",
       "      <td>55.0</td>\n",
       "      <td>2018</td>\n",
       "      <td>F</td>\n",
       "      <td>1770fd147f2342b8b647ef5f42141fc9</td>\n",
       "      <td>54000.0</td>\n",
       "    </tr>\n",
       "  </tbody>\n",
       "</table>\n",
       "</div>"
      ],
      "text/plain": [
       "        age  became_member_on gender                       customer_id  \\\n",
       "12682  55.0              2018      F  1770fd147f2342b8b647ef5f42141fc9   \n",
       "\n",
       "        income  \n",
       "12682  54000.0  "
      ]
     },
     "execution_count": 16,
     "metadata": {},
     "output_type": "execute_result"
    }
   ],
   "source": [
    "profile.sample()"
   ]
  },
  {
   "cell_type": "markdown",
   "metadata": {},
   "source": [
    "### Portfolio"
   ]
  },
  {
   "cell_type": "code",
   "execution_count": 17,
   "metadata": {},
   "outputs": [
    {
     "data": {
      "text/plain": [
       "False"
      ]
     },
     "execution_count": 17,
     "metadata": {},
     "output_type": "execute_result"
    }
   ],
   "source": [
    "portfolio.isnull().sum().any()"
   ]
  },
  {
   "cell_type": "code",
   "execution_count": 18,
   "metadata": {},
   "outputs": [
    {
     "data": {
      "text/html": [
       "<div>\n",
       "<style scoped>\n",
       "    .dataframe tbody tr th:only-of-type {\n",
       "        vertical-align: middle;\n",
       "    }\n",
       "\n",
       "    .dataframe tbody tr th {\n",
       "        vertical-align: top;\n",
       "    }\n",
       "\n",
       "    .dataframe thead th {\n",
       "        text-align: right;\n",
       "    }\n",
       "</style>\n",
       "<table border=\"1\" class=\"dataframe\">\n",
       "  <thead>\n",
       "    <tr style=\"text-align: right;\">\n",
       "      <th></th>\n",
       "      <th>difficulty</th>\n",
       "      <th>duration</th>\n",
       "      <th>offer_id</th>\n",
       "      <th>offer_type</th>\n",
       "      <th>reward</th>\n",
       "      <th>web</th>\n",
       "      <th>email</th>\n",
       "      <th>mobile</th>\n",
       "      <th>social</th>\n",
       "    </tr>\n",
       "  </thead>\n",
       "  <tbody>\n",
       "    <tr>\n",
       "      <th>0</th>\n",
       "      <td>10</td>\n",
       "      <td>7</td>\n",
       "      <td>ae264e3637204a6fb9bb56bc8210ddfd</td>\n",
       "      <td>bogo</td>\n",
       "      <td>10</td>\n",
       "      <td>0</td>\n",
       "      <td>1</td>\n",
       "      <td>1</td>\n",
       "      <td>1</td>\n",
       "    </tr>\n",
       "    <tr>\n",
       "      <th>1</th>\n",
       "      <td>10</td>\n",
       "      <td>5</td>\n",
       "      <td>4d5c57ea9a6940dd891ad53e9dbe8da0</td>\n",
       "      <td>bogo</td>\n",
       "      <td>10</td>\n",
       "      <td>1</td>\n",
       "      <td>1</td>\n",
       "      <td>1</td>\n",
       "      <td>1</td>\n",
       "    </tr>\n",
       "    <tr>\n",
       "      <th>2</th>\n",
       "      <td>0</td>\n",
       "      <td>4</td>\n",
       "      <td>3f207df678b143eea3cee63160fa8bed</td>\n",
       "      <td>informational</td>\n",
       "      <td>0</td>\n",
       "      <td>1</td>\n",
       "      <td>1</td>\n",
       "      <td>1</td>\n",
       "      <td>0</td>\n",
       "    </tr>\n",
       "    <tr>\n",
       "      <th>3</th>\n",
       "      <td>5</td>\n",
       "      <td>7</td>\n",
       "      <td>9b98b8c7a33c4b65b9aebfe6a799e6d9</td>\n",
       "      <td>bogo</td>\n",
       "      <td>5</td>\n",
       "      <td>1</td>\n",
       "      <td>1</td>\n",
       "      <td>1</td>\n",
       "      <td>0</td>\n",
       "    </tr>\n",
       "    <tr>\n",
       "      <th>4</th>\n",
       "      <td>20</td>\n",
       "      <td>10</td>\n",
       "      <td>0b1e1539f2cc45b7b9fa7c272da2e1d7</td>\n",
       "      <td>discount</td>\n",
       "      <td>5</td>\n",
       "      <td>1</td>\n",
       "      <td>1</td>\n",
       "      <td>0</td>\n",
       "      <td>0</td>\n",
       "    </tr>\n",
       "    <tr>\n",
       "      <th>5</th>\n",
       "      <td>7</td>\n",
       "      <td>7</td>\n",
       "      <td>2298d6c36e964ae4a3e7e9706d1fb8c2</td>\n",
       "      <td>discount</td>\n",
       "      <td>3</td>\n",
       "      <td>1</td>\n",
       "      <td>1</td>\n",
       "      <td>1</td>\n",
       "      <td>1</td>\n",
       "    </tr>\n",
       "    <tr>\n",
       "      <th>6</th>\n",
       "      <td>10</td>\n",
       "      <td>10</td>\n",
       "      <td>fafdcd668e3743c1bb461111dcafc2a4</td>\n",
       "      <td>discount</td>\n",
       "      <td>2</td>\n",
       "      <td>1</td>\n",
       "      <td>1</td>\n",
       "      <td>1</td>\n",
       "      <td>1</td>\n",
       "    </tr>\n",
       "    <tr>\n",
       "      <th>7</th>\n",
       "      <td>0</td>\n",
       "      <td>3</td>\n",
       "      <td>5a8bc65990b245e5a138643cd4eb9837</td>\n",
       "      <td>informational</td>\n",
       "      <td>0</td>\n",
       "      <td>0</td>\n",
       "      <td>1</td>\n",
       "      <td>1</td>\n",
       "      <td>1</td>\n",
       "    </tr>\n",
       "    <tr>\n",
       "      <th>8</th>\n",
       "      <td>5</td>\n",
       "      <td>5</td>\n",
       "      <td>f19421c1d4aa40978ebb69ca19b0e20d</td>\n",
       "      <td>bogo</td>\n",
       "      <td>5</td>\n",
       "      <td>1</td>\n",
       "      <td>1</td>\n",
       "      <td>1</td>\n",
       "      <td>1</td>\n",
       "    </tr>\n",
       "    <tr>\n",
       "      <th>9</th>\n",
       "      <td>10</td>\n",
       "      <td>7</td>\n",
       "      <td>2906b810c7d4411798c6938adc9daaa5</td>\n",
       "      <td>discount</td>\n",
       "      <td>2</td>\n",
       "      <td>1</td>\n",
       "      <td>1</td>\n",
       "      <td>1</td>\n",
       "      <td>0</td>\n",
       "    </tr>\n",
       "  </tbody>\n",
       "</table>\n",
       "</div>"
      ],
      "text/plain": [
       "   difficulty  duration                          offer_id     offer_type  \\\n",
       "0          10         7  ae264e3637204a6fb9bb56bc8210ddfd           bogo   \n",
       "1          10         5  4d5c57ea9a6940dd891ad53e9dbe8da0           bogo   \n",
       "2           0         4  3f207df678b143eea3cee63160fa8bed  informational   \n",
       "3           5         7  9b98b8c7a33c4b65b9aebfe6a799e6d9           bogo   \n",
       "4          20        10  0b1e1539f2cc45b7b9fa7c272da2e1d7       discount   \n",
       "5           7         7  2298d6c36e964ae4a3e7e9706d1fb8c2       discount   \n",
       "6          10        10  fafdcd668e3743c1bb461111dcafc2a4       discount   \n",
       "7           0         3  5a8bc65990b245e5a138643cd4eb9837  informational   \n",
       "8           5         5  f19421c1d4aa40978ebb69ca19b0e20d           bogo   \n",
       "9          10         7  2906b810c7d4411798c6938adc9daaa5       discount   \n",
       "\n",
       "   reward  web  email  mobile  social  \n",
       "0      10    0      1       1       1  \n",
       "1      10    1      1       1       1  \n",
       "2       0    1      1       1       0  \n",
       "3       5    1      1       1       0  \n",
       "4       5    1      1       0       0  \n",
       "5       3    1      1       1       1  \n",
       "6       2    1      1       1       1  \n",
       "7       0    0      1       1       1  \n",
       "8       5    1      1       1       1  \n",
       "9       2    1      1       1       0  "
      ]
     },
     "execution_count": 18,
     "metadata": {},
     "output_type": "execute_result"
    }
   ],
   "source": [
    "#Splitting channels column to four columns, each value in one column \n",
    "portfolio['web'] = portfolio['channels'].apply(lambda x: 1 if 'web' in x else 0)\n",
    "portfolio['email'] = portfolio['channels'].apply(lambda x: 1 if 'email' in x else 0)\n",
    "portfolio['mobile'] = portfolio['channels'].apply(lambda x: 1 if 'mobile' in x else 0)\n",
    "portfolio['social'] = portfolio['channels'].apply(lambda x: 1 if 'social' in x else 0)\n",
    "\n",
    "#Dropping channels column\n",
    "portfolio.drop(['channels'], axis=1, inplace=True)\n",
    "portfolio"
   ]
  },
  {
   "cell_type": "markdown",
   "metadata": {},
   "source": [
    "### Transcript"
   ]
  },
  {
   "cell_type": "code",
   "execution_count": 19,
   "metadata": {},
   "outputs": [
    {
     "data": {
      "text/plain": [
       "False"
      ]
     },
     "execution_count": 19,
     "metadata": {},
     "output_type": "execute_result"
    }
   ],
   "source": [
    "transcript.isnull().sum().any()"
   ]
  },
  {
   "cell_type": "code",
   "execution_count": 20,
   "metadata": {},
   "outputs": [
    {
     "data": {
      "text/plain": [
       "{'offer id': '2298d6c36e964ae4a3e7e9706d1fb8c2'}                  14983\n",
       "{'offer id': 'fafdcd668e3743c1bb461111dcafc2a4'}                  14924\n",
       "{'offer id': '4d5c57ea9a6940dd891ad53e9dbe8da0'}                  14891\n",
       "{'offer id': 'f19421c1d4aa40978ebb69ca19b0e20d'}                  14835\n",
       "{'offer id': 'ae264e3637204a6fb9bb56bc8210ddfd'}                  14374\n",
       "{'offer id': '5a8bc65990b245e5a138643cd4eb9837'}                  14305\n",
       "{'offer id': '9b98b8c7a33c4b65b9aebfe6a799e6d9'}                  11848\n",
       "{'offer id': '3f207df678b143eea3cee63160fa8bed'}                  11761\n",
       "{'offer id': '2906b810c7d4411798c6938adc9daaa5'}                  11750\n",
       "{'offer id': '0b1e1539f2cc45b7b9fa7c272da2e1d7'}                  10331\n",
       "{'offer_id': 'fafdcd668e3743c1bb461111dcafc2a4', 'reward': 2}      5317\n",
       "{'offer_id': '2298d6c36e964ae4a3e7e9706d1fb8c2', 'reward': 3}      5156\n",
       "{'offer_id': '9b98b8c7a33c4b65b9aebfe6a799e6d9', 'reward': 5}      4354\n",
       "{'offer_id': 'f19421c1d4aa40978ebb69ca19b0e20d', 'reward': 5}      4296\n",
       "{'offer_id': '2906b810c7d4411798c6938adc9daaa5', 'reward': 2}      4017\n",
       "{'offer_id': 'ae264e3637204a6fb9bb56bc8210ddfd', 'reward': 10}     3688\n",
       "{'offer_id': '0b1e1539f2cc45b7b9fa7c272da2e1d7', 'reward': 5}      3420\n",
       "{'offer_id': '4d5c57ea9a6940dd891ad53e9dbe8da0', 'reward': 10}     3331\n",
       "{'amount': 0.05}                                                    431\n",
       "{'amount': 0.66}                                                    166\n",
       "{'amount': 1.18}                                                    165\n",
       "{'amount': 1.01}                                                    163\n",
       "{'amount': 1.23}                                                    161\n",
       "{'amount': 0.9}                                                     161\n",
       "{'amount': 0.53}                                                    159\n",
       "{'amount': 0.5}                                                     159\n",
       "{'amount': 1.19}                                                    159\n",
       "{'amount': 0.79}                                                    157\n",
       "{'amount': 1.5}                                                     156\n",
       "{'amount': 0.92}                                                    156\n",
       "                                                                  ...  \n",
       "{'amount': 49.73}                                                     1\n",
       "{'amount': 749.29}                                                    1\n",
       "{'amount': 83.03}                                                     1\n",
       "{'amount': 51.06}                                                     1\n",
       "{'amount': 53.4}                                                      1\n",
       "{'amount': 47.2}                                                      1\n",
       "{'amount': 1015.73}                                                   1\n",
       "{'amount': 40.83}                                                     1\n",
       "{'amount': 54.44}                                                     1\n",
       "{'amount': 39.82}                                                     1\n",
       "{'amount': 456.79}                                                    1\n",
       "{'amount': 49.82}                                                     1\n",
       "{'amount': 41.61}                                                     1\n",
       "{'amount': 619.63}                                                    1\n",
       "{'amount': 50.37}                                                     1\n",
       "{'amount': 45.76}                                                     1\n",
       "{'amount': 36.99}                                                     1\n",
       "{'amount': 773.21}                                                    1\n",
       "{'amount': 577.21}                                                    1\n",
       "{'amount': 37.3}                                                      1\n",
       "{'amount': 792.54}                                                    1\n",
       "{'amount': 49.38}                                                     1\n",
       "{'amount': 769.04}                                                    1\n",
       "{'amount': 384.03}                                                    1\n",
       "{'amount': 493.4}                                                     1\n",
       "{'amount': 439.14}                                                    1\n",
       "{'amount': 42.75}                                                     1\n",
       "{'amount': 650.75}                                                    1\n",
       "{'amount': 943.4}                                                     1\n",
       "{'amount': 44.21}                                                     1\n",
       "Name: value, Length: 5121, dtype: int64"
      ]
     },
     "execution_count": 20,
     "metadata": {},
     "output_type": "execute_result"
    }
   ],
   "source": [
    "transcript.value.value_counts()"
   ]
  },
  {
   "cell_type": "code",
   "execution_count": 21,
   "metadata": {},
   "outputs": [
    {
     "data": {
      "text/plain": [
       "transaction        138953\n",
       "offer received      76277\n",
       "offer viewed        57725\n",
       "offer completed     33579\n",
       "Name: event, dtype: int64"
      ]
     },
     "execution_count": 21,
     "metadata": {},
     "output_type": "execute_result"
    }
   ],
   "source": [
    "transcript.event.value_counts()"
   ]
  },
  {
   "cell_type": "code",
   "execution_count": 22,
   "metadata": {},
   "outputs": [
    {
     "data": {
      "text/html": [
       "<div>\n",
       "<style scoped>\n",
       "    .dataframe tbody tr th:only-of-type {\n",
       "        vertical-align: middle;\n",
       "    }\n",
       "\n",
       "    .dataframe tbody tr th {\n",
       "        vertical-align: top;\n",
       "    }\n",
       "\n",
       "    .dataframe thead th {\n",
       "        text-align: right;\n",
       "    }\n",
       "</style>\n",
       "<table border=\"1\" class=\"dataframe\">\n",
       "  <thead>\n",
       "    <tr style=\"text-align: right;\">\n",
       "      <th></th>\n",
       "      <th>event</th>\n",
       "      <th>person</th>\n",
       "      <th>time</th>\n",
       "      <th>value</th>\n",
       "    </tr>\n",
       "  </thead>\n",
       "  <tbody>\n",
       "    <tr>\n",
       "      <th>0</th>\n",
       "      <td>offer received</td>\n",
       "      <td>78afa995795e4d85b5d9ceeca43f5fef</td>\n",
       "      <td>0</td>\n",
       "      <td>{'offer id': '9b98b8c7a33c4b65b9aebfe6a799e6d9'}</td>\n",
       "    </tr>\n",
       "    <tr>\n",
       "      <th>1</th>\n",
       "      <td>offer received</td>\n",
       "      <td>a03223e636434f42ac4c3df47e8bac43</td>\n",
       "      <td>0</td>\n",
       "      <td>{'offer id': '0b1e1539f2cc45b7b9fa7c272da2e1d7'}</td>\n",
       "    </tr>\n",
       "    <tr>\n",
       "      <th>2</th>\n",
       "      <td>offer received</td>\n",
       "      <td>e2127556f4f64592b11af22de27a7932</td>\n",
       "      <td>0</td>\n",
       "      <td>{'offer id': '2906b810c7d4411798c6938adc9daaa5'}</td>\n",
       "    </tr>\n",
       "    <tr>\n",
       "      <th>3</th>\n",
       "      <td>offer received</td>\n",
       "      <td>8ec6ce2a7e7949b1bf142def7d0e0586</td>\n",
       "      <td>0</td>\n",
       "      <td>{'offer id': 'fafdcd668e3743c1bb461111dcafc2a4'}</td>\n",
       "    </tr>\n",
       "    <tr>\n",
       "      <th>4</th>\n",
       "      <td>offer received</td>\n",
       "      <td>68617ca6246f4fbc85e91a2a49552598</td>\n",
       "      <td>0</td>\n",
       "      <td>{'offer id': '4d5c57ea9a6940dd891ad53e9dbe8da0'}</td>\n",
       "    </tr>\n",
       "    <tr>\n",
       "      <th>5</th>\n",
       "      <td>offer received</td>\n",
       "      <td>389bc3fa690240e798340f5a15918d5c</td>\n",
       "      <td>0</td>\n",
       "      <td>{'offer id': 'f19421c1d4aa40978ebb69ca19b0e20d'}</td>\n",
       "    </tr>\n",
       "    <tr>\n",
       "      <th>6</th>\n",
       "      <td>offer received</td>\n",
       "      <td>c4863c7985cf408faee930f111475da3</td>\n",
       "      <td>0</td>\n",
       "      <td>{'offer id': '2298d6c36e964ae4a3e7e9706d1fb8c2'}</td>\n",
       "    </tr>\n",
       "    <tr>\n",
       "      <th>7</th>\n",
       "      <td>offer received</td>\n",
       "      <td>2eeac8d8feae4a8cad5a6af0499a211d</td>\n",
       "      <td>0</td>\n",
       "      <td>{'offer id': '3f207df678b143eea3cee63160fa8bed'}</td>\n",
       "    </tr>\n",
       "    <tr>\n",
       "      <th>8</th>\n",
       "      <td>offer received</td>\n",
       "      <td>aa4862eba776480b8bb9c68455b8c2e1</td>\n",
       "      <td>0</td>\n",
       "      <td>{'offer id': '0b1e1539f2cc45b7b9fa7c272da2e1d7'}</td>\n",
       "    </tr>\n",
       "    <tr>\n",
       "      <th>9</th>\n",
       "      <td>offer received</td>\n",
       "      <td>31dda685af34476cad5bc968bdb01c53</td>\n",
       "      <td>0</td>\n",
       "      <td>{'offer id': '0b1e1539f2cc45b7b9fa7c272da2e1d7'}</td>\n",
       "    </tr>\n",
       "    <tr>\n",
       "      <th>10</th>\n",
       "      <td>offer received</td>\n",
       "      <td>744d603ef08c4f33af5a61c8c7628d1c</td>\n",
       "      <td>0</td>\n",
       "      <td>{'offer id': '0b1e1539f2cc45b7b9fa7c272da2e1d7'}</td>\n",
       "    </tr>\n",
       "    <tr>\n",
       "      <th>11</th>\n",
       "      <td>offer received</td>\n",
       "      <td>3d02345581554e81b7b289ab5e288078</td>\n",
       "      <td>0</td>\n",
       "      <td>{'offer id': '0b1e1539f2cc45b7b9fa7c272da2e1d7'}</td>\n",
       "    </tr>\n",
       "    <tr>\n",
       "      <th>12</th>\n",
       "      <td>offer received</td>\n",
       "      <td>4b0da7e80e5945209a1fdddfe813dbe0</td>\n",
       "      <td>0</td>\n",
       "      <td>{'offer id': 'ae264e3637204a6fb9bb56bc8210ddfd'}</td>\n",
       "    </tr>\n",
       "    <tr>\n",
       "      <th>13</th>\n",
       "      <td>offer received</td>\n",
       "      <td>c27e0d6ab72c455a8bb66d980963de60</td>\n",
       "      <td>0</td>\n",
       "      <td>{'offer id': '3f207df678b143eea3cee63160fa8bed'}</td>\n",
       "    </tr>\n",
       "    <tr>\n",
       "      <th>14</th>\n",
       "      <td>offer received</td>\n",
       "      <td>d53717f5400c4e84affdaeda9dd926b3</td>\n",
       "      <td>0</td>\n",
       "      <td>{'offer id': '0b1e1539f2cc45b7b9fa7c272da2e1d7'}</td>\n",
       "    </tr>\n",
       "    <tr>\n",
       "      <th>15</th>\n",
       "      <td>offer received</td>\n",
       "      <td>f806632c011441378d4646567f357a21</td>\n",
       "      <td>0</td>\n",
       "      <td>{'offer id': 'fafdcd668e3743c1bb461111dcafc2a4'}</td>\n",
       "    </tr>\n",
       "    <tr>\n",
       "      <th>16</th>\n",
       "      <td>offer received</td>\n",
       "      <td>d058f73bf8674a26a95227db098147b1</td>\n",
       "      <td>0</td>\n",
       "      <td>{'offer id': '0b1e1539f2cc45b7b9fa7c272da2e1d7'}</td>\n",
       "    </tr>\n",
       "    <tr>\n",
       "      <th>17</th>\n",
       "      <td>offer received</td>\n",
       "      <td>65aba5c617294649aeb624da249e1ee5</td>\n",
       "      <td>0</td>\n",
       "      <td>{'offer id': '2906b810c7d4411798c6938adc9daaa5'}</td>\n",
       "    </tr>\n",
       "    <tr>\n",
       "      <th>18</th>\n",
       "      <td>offer received</td>\n",
       "      <td>ebe7ef46ea6f4963a7dd49f501b26779</td>\n",
       "      <td>0</td>\n",
       "      <td>{'offer id': '9b98b8c7a33c4b65b9aebfe6a799e6d9'}</td>\n",
       "    </tr>\n",
       "    <tr>\n",
       "      <th>19</th>\n",
       "      <td>offer received</td>\n",
       "      <td>1e9420836d554513ab90eba98552d0a9</td>\n",
       "      <td>0</td>\n",
       "      <td>{'offer id': 'ae264e3637204a6fb9bb56bc8210ddfd'}</td>\n",
       "    </tr>\n",
       "    <tr>\n",
       "      <th>20</th>\n",
       "      <td>offer received</td>\n",
       "      <td>868317b9be554cb18e50bc68484749a2</td>\n",
       "      <td>0</td>\n",
       "      <td>{'offer id': '2906b810c7d4411798c6938adc9daaa5'}</td>\n",
       "    </tr>\n",
       "    <tr>\n",
       "      <th>21</th>\n",
       "      <td>offer received</td>\n",
       "      <td>f082d80f0aac47a99173ba8ef8fc1909</td>\n",
       "      <td>0</td>\n",
       "      <td>{'offer id': '9b98b8c7a33c4b65b9aebfe6a799e6d9'}</td>\n",
       "    </tr>\n",
       "    <tr>\n",
       "      <th>22</th>\n",
       "      <td>offer received</td>\n",
       "      <td>102e9454054946fda62242d2e176fdce</td>\n",
       "      <td>0</td>\n",
       "      <td>{'offer id': '4d5c57ea9a6940dd891ad53e9dbe8da0'}</td>\n",
       "    </tr>\n",
       "    <tr>\n",
       "      <th>23</th>\n",
       "      <td>offer received</td>\n",
       "      <td>4beeb3ed64dd4898b0edf2f6b67426d3</td>\n",
       "      <td>0</td>\n",
       "      <td>{'offer id': '2906b810c7d4411798c6938adc9daaa5'}</td>\n",
       "    </tr>\n",
       "    <tr>\n",
       "      <th>24</th>\n",
       "      <td>offer received</td>\n",
       "      <td>9f30b375d7bd4c62a884ffe7034e09ee</td>\n",
       "      <td>0</td>\n",
       "      <td>{'offer id': '2298d6c36e964ae4a3e7e9706d1fb8c2'}</td>\n",
       "    </tr>\n",
       "    <tr>\n",
       "      <th>25</th>\n",
       "      <td>offer received</td>\n",
       "      <td>25c906289d154b66bf579693f89481c9</td>\n",
       "      <td>0</td>\n",
       "      <td>{'offer id': '2906b810c7d4411798c6938adc9daaa5'}</td>\n",
       "    </tr>\n",
       "    <tr>\n",
       "      <th>26</th>\n",
       "      <td>offer received</td>\n",
       "      <td>6e014185620b49bd98749f728747572f</td>\n",
       "      <td>0</td>\n",
       "      <td>{'offer id': 'f19421c1d4aa40978ebb69ca19b0e20d'}</td>\n",
       "    </tr>\n",
       "    <tr>\n",
       "      <th>27</th>\n",
       "      <td>offer received</td>\n",
       "      <td>02c083884c7d45b39cc68e1314fec56c</td>\n",
       "      <td>0</td>\n",
       "      <td>{'offer id': 'ae264e3637204a6fb9bb56bc8210ddfd'}</td>\n",
       "    </tr>\n",
       "    <tr>\n",
       "      <th>28</th>\n",
       "      <td>offer received</td>\n",
       "      <td>c0d210398dee4a0895b24444a5fcd1d2</td>\n",
       "      <td>0</td>\n",
       "      <td>{'offer id': '9b98b8c7a33c4b65b9aebfe6a799e6d9'}</td>\n",
       "    </tr>\n",
       "    <tr>\n",
       "      <th>29</th>\n",
       "      <td>offer received</td>\n",
       "      <td>8be4463721e14d7fa600686bf8c8b2ed</td>\n",
       "      <td>0</td>\n",
       "      <td>{'offer id': 'fafdcd668e3743c1bb461111dcafc2a4'}</td>\n",
       "    </tr>\n",
       "    <tr>\n",
       "      <th>...</th>\n",
       "      <td>...</td>\n",
       "      <td>...</td>\n",
       "      <td>...</td>\n",
       "      <td>...</td>\n",
       "    </tr>\n",
       "    <tr>\n",
       "      <th>306504</th>\n",
       "      <td>transaction</td>\n",
       "      <td>8524d450673b4c24869b6c94380006de</td>\n",
       "      <td>714</td>\n",
       "      <td>{'amount': 4.89}</td>\n",
       "    </tr>\n",
       "    <tr>\n",
       "      <th>306505</th>\n",
       "      <td>transaction</td>\n",
       "      <td>b895c57e8cd047a8872ce02aa54759d6</td>\n",
       "      <td>714</td>\n",
       "      <td>{'amount': 4.48}</td>\n",
       "    </tr>\n",
       "    <tr>\n",
       "      <th>306506</th>\n",
       "      <td>offer completed</td>\n",
       "      <td>b895c57e8cd047a8872ce02aa54759d6</td>\n",
       "      <td>714</td>\n",
       "      <td>{'offer_id': 'fafdcd668e3743c1bb461111dcafc2a4...</td>\n",
       "    </tr>\n",
       "    <tr>\n",
       "      <th>306507</th>\n",
       "      <td>offer viewed</td>\n",
       "      <td>8dda575c2a1d44b9ac8e8b07b93d1f8e</td>\n",
       "      <td>714</td>\n",
       "      <td>{'offer id': '0b1e1539f2cc45b7b9fa7c272da2e1d7'}</td>\n",
       "    </tr>\n",
       "    <tr>\n",
       "      <th>306508</th>\n",
       "      <td>transaction</td>\n",
       "      <td>8431c16f8e1d440880db371a68f82dd0</td>\n",
       "      <td>714</td>\n",
       "      <td>{'amount': 1.19}</td>\n",
       "    </tr>\n",
       "    <tr>\n",
       "      <th>306509</th>\n",
       "      <td>offer completed</td>\n",
       "      <td>8431c16f8e1d440880db371a68f82dd0</td>\n",
       "      <td>714</td>\n",
       "      <td>{'offer_id': 'fafdcd668e3743c1bb461111dcafc2a4...</td>\n",
       "    </tr>\n",
       "    <tr>\n",
       "      <th>306510</th>\n",
       "      <td>transaction</td>\n",
       "      <td>ba620885e51c4b0ea64a4f61daad494f</td>\n",
       "      <td>714</td>\n",
       "      <td>{'amount': 14.31}</td>\n",
       "    </tr>\n",
       "    <tr>\n",
       "      <th>306511</th>\n",
       "      <td>transaction</td>\n",
       "      <td>a1a8f40407c444cc848468275308958a</td>\n",
       "      <td>714</td>\n",
       "      <td>{'amount': 2.37}</td>\n",
       "    </tr>\n",
       "    <tr>\n",
       "      <th>306512</th>\n",
       "      <td>transaction</td>\n",
       "      <td>8d80970192fa496f99d6b45c470a4b60</td>\n",
       "      <td>714</td>\n",
       "      <td>{'amount': 6.92}</td>\n",
       "    </tr>\n",
       "    <tr>\n",
       "      <th>306513</th>\n",
       "      <td>transaction</td>\n",
       "      <td>bde275066f3c4fa0bff3093e3b866a2c</td>\n",
       "      <td>714</td>\n",
       "      <td>{'amount': 12.73}</td>\n",
       "    </tr>\n",
       "    <tr>\n",
       "      <th>306514</th>\n",
       "      <td>transaction</td>\n",
       "      <td>f1e4fd36e5a0446f83861308bddf6945</td>\n",
       "      <td>714</td>\n",
       "      <td>{'amount': 8.2}</td>\n",
       "    </tr>\n",
       "    <tr>\n",
       "      <th>306515</th>\n",
       "      <td>transaction</td>\n",
       "      <td>0b64be3b241c4407a5c9a71781173829</td>\n",
       "      <td>714</td>\n",
       "      <td>{'amount': 2.6}</td>\n",
       "    </tr>\n",
       "    <tr>\n",
       "      <th>306516</th>\n",
       "      <td>transaction</td>\n",
       "      <td>86d03d35d7e0434b935e7743e83be3a0</td>\n",
       "      <td>714</td>\n",
       "      <td>{'amount': 9.2}</td>\n",
       "    </tr>\n",
       "    <tr>\n",
       "      <th>306517</th>\n",
       "      <td>transaction</td>\n",
       "      <td>3408fd05c781401f8442fb6dbaaea9c7</td>\n",
       "      <td>714</td>\n",
       "      <td>{'amount': 11.7}</td>\n",
       "    </tr>\n",
       "    <tr>\n",
       "      <th>306518</th>\n",
       "      <td>transaction</td>\n",
       "      <td>1593d617fac246ef8e50dbb0ffd77f5f</td>\n",
       "      <td>714</td>\n",
       "      <td>{'amount': 40.67}</td>\n",
       "    </tr>\n",
       "    <tr>\n",
       "      <th>306519</th>\n",
       "      <td>transaction</td>\n",
       "      <td>f1b31d07b5d84f69a2d5f1d07843989e</td>\n",
       "      <td>714</td>\n",
       "      <td>{'amount': 31.13}</td>\n",
       "    </tr>\n",
       "    <tr>\n",
       "      <th>306520</th>\n",
       "      <td>transaction</td>\n",
       "      <td>2ce987015ec0404a97ba333e8e814090</td>\n",
       "      <td>714</td>\n",
       "      <td>{'amount': 1.6400000000000001}</td>\n",
       "    </tr>\n",
       "    <tr>\n",
       "      <th>306521</th>\n",
       "      <td>transaction</td>\n",
       "      <td>2e33545f0a764d27b2ccff95fc8d72c4</td>\n",
       "      <td>714</td>\n",
       "      <td>{'amount': 17.35}</td>\n",
       "    </tr>\n",
       "    <tr>\n",
       "      <th>306522</th>\n",
       "      <td>transaction</td>\n",
       "      <td>d1c4500ace2e45e9a45d3cd2fccac8d8</td>\n",
       "      <td>714</td>\n",
       "      <td>{'amount': 4.42}</td>\n",
       "    </tr>\n",
       "    <tr>\n",
       "      <th>306523</th>\n",
       "      <td>transaction</td>\n",
       "      <td>b65affd9e07346a1906364a396950e3d</td>\n",
       "      <td>714</td>\n",
       "      <td>{'amount': 18.35}</td>\n",
       "    </tr>\n",
       "    <tr>\n",
       "      <th>306524</th>\n",
       "      <td>transaction</td>\n",
       "      <td>d613ca9c59dd42f497bdbf6178da54a7</td>\n",
       "      <td>714</td>\n",
       "      <td>{'amount': 25.14}</td>\n",
       "    </tr>\n",
       "    <tr>\n",
       "      <th>306525</th>\n",
       "      <td>transaction</td>\n",
       "      <td>eec70ab28af74a22a4aeb889c0317944</td>\n",
       "      <td>714</td>\n",
       "      <td>{'amount': 43.58}</td>\n",
       "    </tr>\n",
       "    <tr>\n",
       "      <th>306526</th>\n",
       "      <td>transaction</td>\n",
       "      <td>24f56b5e1849462093931b164eb803b5</td>\n",
       "      <td>714</td>\n",
       "      <td>{'amount': 22.64}</td>\n",
       "    </tr>\n",
       "    <tr>\n",
       "      <th>306527</th>\n",
       "      <td>offer completed</td>\n",
       "      <td>24f56b5e1849462093931b164eb803b5</td>\n",
       "      <td>714</td>\n",
       "      <td>{'offer_id': 'fafdcd668e3743c1bb461111dcafc2a4...</td>\n",
       "    </tr>\n",
       "    <tr>\n",
       "      <th>306528</th>\n",
       "      <td>transaction</td>\n",
       "      <td>5ca2620962114246ab218fc648eb3934</td>\n",
       "      <td>714</td>\n",
       "      <td>{'amount': 2.2}</td>\n",
       "    </tr>\n",
       "    <tr>\n",
       "      <th>306529</th>\n",
       "      <td>transaction</td>\n",
       "      <td>b3a1272bc9904337b331bf348c3e8c17</td>\n",
       "      <td>714</td>\n",
       "      <td>{'amount': 1.5899999999999999}</td>\n",
       "    </tr>\n",
       "    <tr>\n",
       "      <th>306530</th>\n",
       "      <td>transaction</td>\n",
       "      <td>68213b08d99a4ae1b0dcb72aebd9aa35</td>\n",
       "      <td>714</td>\n",
       "      <td>{'amount': 9.53}</td>\n",
       "    </tr>\n",
       "    <tr>\n",
       "      <th>306531</th>\n",
       "      <td>transaction</td>\n",
       "      <td>a00058cf10334a308c68e7631c529907</td>\n",
       "      <td>714</td>\n",
       "      <td>{'amount': 3.61}</td>\n",
       "    </tr>\n",
       "    <tr>\n",
       "      <th>306532</th>\n",
       "      <td>transaction</td>\n",
       "      <td>76ddbd6576844afe811f1a3c0fbb5bec</td>\n",
       "      <td>714</td>\n",
       "      <td>{'amount': 3.5300000000000002}</td>\n",
       "    </tr>\n",
       "    <tr>\n",
       "      <th>306533</th>\n",
       "      <td>transaction</td>\n",
       "      <td>c02b10e8752c4d8e9b73f918558531f7</td>\n",
       "      <td>714</td>\n",
       "      <td>{'amount': 4.05}</td>\n",
       "    </tr>\n",
       "  </tbody>\n",
       "</table>\n",
       "<p>306534 rows × 4 columns</p>\n",
       "</div>"
      ],
      "text/plain": [
       "                  event                            person  time  \\\n",
       "0        offer received  78afa995795e4d85b5d9ceeca43f5fef     0   \n",
       "1        offer received  a03223e636434f42ac4c3df47e8bac43     0   \n",
       "2        offer received  e2127556f4f64592b11af22de27a7932     0   \n",
       "3        offer received  8ec6ce2a7e7949b1bf142def7d0e0586     0   \n",
       "4        offer received  68617ca6246f4fbc85e91a2a49552598     0   \n",
       "5        offer received  389bc3fa690240e798340f5a15918d5c     0   \n",
       "6        offer received  c4863c7985cf408faee930f111475da3     0   \n",
       "7        offer received  2eeac8d8feae4a8cad5a6af0499a211d     0   \n",
       "8        offer received  aa4862eba776480b8bb9c68455b8c2e1     0   \n",
       "9        offer received  31dda685af34476cad5bc968bdb01c53     0   \n",
       "10       offer received  744d603ef08c4f33af5a61c8c7628d1c     0   \n",
       "11       offer received  3d02345581554e81b7b289ab5e288078     0   \n",
       "12       offer received  4b0da7e80e5945209a1fdddfe813dbe0     0   \n",
       "13       offer received  c27e0d6ab72c455a8bb66d980963de60     0   \n",
       "14       offer received  d53717f5400c4e84affdaeda9dd926b3     0   \n",
       "15       offer received  f806632c011441378d4646567f357a21     0   \n",
       "16       offer received  d058f73bf8674a26a95227db098147b1     0   \n",
       "17       offer received  65aba5c617294649aeb624da249e1ee5     0   \n",
       "18       offer received  ebe7ef46ea6f4963a7dd49f501b26779     0   \n",
       "19       offer received  1e9420836d554513ab90eba98552d0a9     0   \n",
       "20       offer received  868317b9be554cb18e50bc68484749a2     0   \n",
       "21       offer received  f082d80f0aac47a99173ba8ef8fc1909     0   \n",
       "22       offer received  102e9454054946fda62242d2e176fdce     0   \n",
       "23       offer received  4beeb3ed64dd4898b0edf2f6b67426d3     0   \n",
       "24       offer received  9f30b375d7bd4c62a884ffe7034e09ee     0   \n",
       "25       offer received  25c906289d154b66bf579693f89481c9     0   \n",
       "26       offer received  6e014185620b49bd98749f728747572f     0   \n",
       "27       offer received  02c083884c7d45b39cc68e1314fec56c     0   \n",
       "28       offer received  c0d210398dee4a0895b24444a5fcd1d2     0   \n",
       "29       offer received  8be4463721e14d7fa600686bf8c8b2ed     0   \n",
       "...                 ...                               ...   ...   \n",
       "306504      transaction  8524d450673b4c24869b6c94380006de   714   \n",
       "306505      transaction  b895c57e8cd047a8872ce02aa54759d6   714   \n",
       "306506  offer completed  b895c57e8cd047a8872ce02aa54759d6   714   \n",
       "306507     offer viewed  8dda575c2a1d44b9ac8e8b07b93d1f8e   714   \n",
       "306508      transaction  8431c16f8e1d440880db371a68f82dd0   714   \n",
       "306509  offer completed  8431c16f8e1d440880db371a68f82dd0   714   \n",
       "306510      transaction  ba620885e51c4b0ea64a4f61daad494f   714   \n",
       "306511      transaction  a1a8f40407c444cc848468275308958a   714   \n",
       "306512      transaction  8d80970192fa496f99d6b45c470a4b60   714   \n",
       "306513      transaction  bde275066f3c4fa0bff3093e3b866a2c   714   \n",
       "306514      transaction  f1e4fd36e5a0446f83861308bddf6945   714   \n",
       "306515      transaction  0b64be3b241c4407a5c9a71781173829   714   \n",
       "306516      transaction  86d03d35d7e0434b935e7743e83be3a0   714   \n",
       "306517      transaction  3408fd05c781401f8442fb6dbaaea9c7   714   \n",
       "306518      transaction  1593d617fac246ef8e50dbb0ffd77f5f   714   \n",
       "306519      transaction  f1b31d07b5d84f69a2d5f1d07843989e   714   \n",
       "306520      transaction  2ce987015ec0404a97ba333e8e814090   714   \n",
       "306521      transaction  2e33545f0a764d27b2ccff95fc8d72c4   714   \n",
       "306522      transaction  d1c4500ace2e45e9a45d3cd2fccac8d8   714   \n",
       "306523      transaction  b65affd9e07346a1906364a396950e3d   714   \n",
       "306524      transaction  d613ca9c59dd42f497bdbf6178da54a7   714   \n",
       "306525      transaction  eec70ab28af74a22a4aeb889c0317944   714   \n",
       "306526      transaction  24f56b5e1849462093931b164eb803b5   714   \n",
       "306527  offer completed  24f56b5e1849462093931b164eb803b5   714   \n",
       "306528      transaction  5ca2620962114246ab218fc648eb3934   714   \n",
       "306529      transaction  b3a1272bc9904337b331bf348c3e8c17   714   \n",
       "306530      transaction  68213b08d99a4ae1b0dcb72aebd9aa35   714   \n",
       "306531      transaction  a00058cf10334a308c68e7631c529907   714   \n",
       "306532      transaction  76ddbd6576844afe811f1a3c0fbb5bec   714   \n",
       "306533      transaction  c02b10e8752c4d8e9b73f918558531f7   714   \n",
       "\n",
       "                                                    value  \n",
       "0        {'offer id': '9b98b8c7a33c4b65b9aebfe6a799e6d9'}  \n",
       "1        {'offer id': '0b1e1539f2cc45b7b9fa7c272da2e1d7'}  \n",
       "2        {'offer id': '2906b810c7d4411798c6938adc9daaa5'}  \n",
       "3        {'offer id': 'fafdcd668e3743c1bb461111dcafc2a4'}  \n",
       "4        {'offer id': '4d5c57ea9a6940dd891ad53e9dbe8da0'}  \n",
       "5        {'offer id': 'f19421c1d4aa40978ebb69ca19b0e20d'}  \n",
       "6        {'offer id': '2298d6c36e964ae4a3e7e9706d1fb8c2'}  \n",
       "7        {'offer id': '3f207df678b143eea3cee63160fa8bed'}  \n",
       "8        {'offer id': '0b1e1539f2cc45b7b9fa7c272da2e1d7'}  \n",
       "9        {'offer id': '0b1e1539f2cc45b7b9fa7c272da2e1d7'}  \n",
       "10       {'offer id': '0b1e1539f2cc45b7b9fa7c272da2e1d7'}  \n",
       "11       {'offer id': '0b1e1539f2cc45b7b9fa7c272da2e1d7'}  \n",
       "12       {'offer id': 'ae264e3637204a6fb9bb56bc8210ddfd'}  \n",
       "13       {'offer id': '3f207df678b143eea3cee63160fa8bed'}  \n",
       "14       {'offer id': '0b1e1539f2cc45b7b9fa7c272da2e1d7'}  \n",
       "15       {'offer id': 'fafdcd668e3743c1bb461111dcafc2a4'}  \n",
       "16       {'offer id': '0b1e1539f2cc45b7b9fa7c272da2e1d7'}  \n",
       "17       {'offer id': '2906b810c7d4411798c6938adc9daaa5'}  \n",
       "18       {'offer id': '9b98b8c7a33c4b65b9aebfe6a799e6d9'}  \n",
       "19       {'offer id': 'ae264e3637204a6fb9bb56bc8210ddfd'}  \n",
       "20       {'offer id': '2906b810c7d4411798c6938adc9daaa5'}  \n",
       "21       {'offer id': '9b98b8c7a33c4b65b9aebfe6a799e6d9'}  \n",
       "22       {'offer id': '4d5c57ea9a6940dd891ad53e9dbe8da0'}  \n",
       "23       {'offer id': '2906b810c7d4411798c6938adc9daaa5'}  \n",
       "24       {'offer id': '2298d6c36e964ae4a3e7e9706d1fb8c2'}  \n",
       "25       {'offer id': '2906b810c7d4411798c6938adc9daaa5'}  \n",
       "26       {'offer id': 'f19421c1d4aa40978ebb69ca19b0e20d'}  \n",
       "27       {'offer id': 'ae264e3637204a6fb9bb56bc8210ddfd'}  \n",
       "28       {'offer id': '9b98b8c7a33c4b65b9aebfe6a799e6d9'}  \n",
       "29       {'offer id': 'fafdcd668e3743c1bb461111dcafc2a4'}  \n",
       "...                                                   ...  \n",
       "306504                                   {'amount': 4.89}  \n",
       "306505                                   {'amount': 4.48}  \n",
       "306506  {'offer_id': 'fafdcd668e3743c1bb461111dcafc2a4...  \n",
       "306507   {'offer id': '0b1e1539f2cc45b7b9fa7c272da2e1d7'}  \n",
       "306508                                   {'amount': 1.19}  \n",
       "306509  {'offer_id': 'fafdcd668e3743c1bb461111dcafc2a4...  \n",
       "306510                                  {'amount': 14.31}  \n",
       "306511                                   {'amount': 2.37}  \n",
       "306512                                   {'amount': 6.92}  \n",
       "306513                                  {'amount': 12.73}  \n",
       "306514                                    {'amount': 8.2}  \n",
       "306515                                    {'amount': 2.6}  \n",
       "306516                                    {'amount': 9.2}  \n",
       "306517                                   {'amount': 11.7}  \n",
       "306518                                  {'amount': 40.67}  \n",
       "306519                                  {'amount': 31.13}  \n",
       "306520                     {'amount': 1.6400000000000001}  \n",
       "306521                                  {'amount': 17.35}  \n",
       "306522                                   {'amount': 4.42}  \n",
       "306523                                  {'amount': 18.35}  \n",
       "306524                                  {'amount': 25.14}  \n",
       "306525                                  {'amount': 43.58}  \n",
       "306526                                  {'amount': 22.64}  \n",
       "306527  {'offer_id': 'fafdcd668e3743c1bb461111dcafc2a4...  \n",
       "306528                                    {'amount': 2.2}  \n",
       "306529                     {'amount': 1.5899999999999999}  \n",
       "306530                                   {'amount': 9.53}  \n",
       "306531                                   {'amount': 3.61}  \n",
       "306532                     {'amount': 3.5300000000000002}  \n",
       "306533                                   {'amount': 4.05}  \n",
       "\n",
       "[306534 rows x 4 columns]"
      ]
     },
     "execution_count": 22,
     "metadata": {},
     "output_type": "execute_result"
    }
   ],
   "source": [
    "transcript"
   ]
  },
  {
   "cell_type": "code",
   "execution_count": 23,
   "metadata": {},
   "outputs": [],
   "source": [
    "transcript_split = transcript['value'].apply(pd.Series)"
   ]
  },
  {
   "cell_type": "code",
   "execution_count": 24,
   "metadata": {},
   "outputs": [],
   "source": [
    "#Splitting value column\n",
    "transcript_split['offer_id_new']=np.where(transcript_split['offer id'].isnull() & transcript_split['offer_id'].notnull(),\\\n",
    "                                          transcript_split['offer_id'],\n",
    "                                          transcript_split['offer id']\n",
    "                                         )"
   ]
  },
  {
   "cell_type": "code",
   "execution_count": 25,
   "metadata": {},
   "outputs": [],
   "source": [
    "transcript = pd.concat([transcript, transcript_split], axis=1)"
   ]
  },
  {
   "cell_type": "code",
   "execution_count": 26,
   "metadata": {},
   "outputs": [],
   "source": [
    "#Dropping the unncessary columns\n",
    "transcript = transcript.drop(['value','offer_id','offer id'], axis=1)\n",
    "\n",
    "#Renaming the columns\n",
    "transcript = transcript.rename(columns = {'person':'customer_id','offer_id_new':'offer_id','reward':'reward_complete'})"
   ]
  },
  {
   "cell_type": "code",
   "execution_count": 27,
   "metadata": {},
   "outputs": [],
   "source": [
    "transcript[\"Days\"] = transcript.time/24"
   ]
  },
  {
   "cell_type": "code",
   "execution_count": 28,
   "metadata": {},
   "outputs": [],
   "source": [
    "transcript.drop(columns={'time'},inplace=True)"
   ]
  },
  {
   "cell_type": "code",
   "execution_count": 29,
   "metadata": {},
   "outputs": [],
   "source": [
    "transcript['Days'] = transcript.Days.astype(int)"
   ]
  },
  {
   "cell_type": "code",
   "execution_count": 30,
   "metadata": {},
   "outputs": [
    {
     "data": {
      "text/plain": [
       "transaction        138953\n",
       "offer received      76277\n",
       "offer viewed        57725\n",
       "offer completed     33579\n",
       "Name: event, dtype: int64"
      ]
     },
     "execution_count": 30,
     "metadata": {},
     "output_type": "execute_result"
    }
   ],
   "source": [
    "transcript.event.value_counts()"
   ]
  },
  {
   "cell_type": "code",
   "execution_count": 31,
   "metadata": {},
   "outputs": [
    {
     "data": {
      "text/plain": [
       "event                   0\n",
       "customer_id             0\n",
       "amount             167581\n",
       "reward_complete    272955\n",
       "offer_id           138953\n",
       "Days                    0\n",
       "dtype: int64"
      ]
     },
     "execution_count": 31,
     "metadata": {},
     "output_type": "execute_result"
    }
   ],
   "source": [
    "transcript.isnull().sum()"
   ]
  },
  {
   "cell_type": "code",
   "execution_count": 32,
   "metadata": {},
   "outputs": [],
   "source": [
    "transcript['amount'] = transcript['amount'].fillna(value=0)"
   ]
  },
  {
   "cell_type": "code",
   "execution_count": 33,
   "metadata": {},
   "outputs": [],
   "source": [
    "transcript['reward_complete'] = transcript['reward_complete'].fillna(value=0)"
   ]
  },
  {
   "cell_type": "markdown",
   "metadata": {},
   "source": [
    "\n",
    "<b>After I cleaned all the datasets I will join them."
   ]
  },
  {
   "cell_type": "code",
   "execution_count": 34,
   "metadata": {},
   "outputs": [],
   "source": [
    "portfolio_transcript = portfolio.merge(transcript, on='offer_id',how='left')"
   ]
  },
  {
   "cell_type": "code",
   "execution_count": 35,
   "metadata": {},
   "outputs": [],
   "source": [
    "All_Data = portfolio_transcript.merge(profile, on='customer_id',how='left')"
   ]
  },
  {
   "cell_type": "code",
   "execution_count": 36,
   "metadata": {},
   "outputs": [
    {
     "data": {
      "text/plain": [
       "offer received     76277\n",
       "offer viewed       57725\n",
       "offer completed    33579\n",
       "Name: event, dtype: int64"
      ]
     },
     "execution_count": 36,
     "metadata": {},
     "output_type": "execute_result"
    }
   ],
   "source": [
    "All_Data.event.value_counts()"
   ]
  },
  {
   "cell_type": "code",
   "execution_count": null,
   "metadata": {},
   "outputs": [],
   "source": []
  },
  {
   "cell_type": "markdown",
   "metadata": {},
   "source": [
    "## EDA"
   ]
  },
  {
   "cell_type": "markdown",
   "metadata": {},
   "source": [
    "#### What types of offers starbucks is offering? and how many are they?"
   ]
  },
  {
   "cell_type": "code",
   "execution_count": 37,
   "metadata": {},
   "outputs": [
    {
     "data": {
      "image/png": "[encoded data removed]",
      "text/plain": [
       "<matplotlib.figure.Figure at 0x7f8f04ae6518>"
      ]
     },
     "metadata": {
      "needs_background": "light"
     },
     "output_type": "display_data"
    }
   ],
   "source": [
    "temp = All_Data.offer_type.value_counts().index #temp used in only this cell\n",
    "plt.figure(figsize=(12,8))\n",
    "sb.countplot(data=All_Data, x='offer_type', order=temp )\n",
    "plt.title('Most Frequent Offer Types')\n",
    "plt.xlabel('Offer Types')\n",
    "plt.ylabel('Frequent');"
   ]
  },
  {
   "cell_type": "markdown",
   "metadata": {},
   "source": [
    "As shown above, Highest offer types offered by starbucks is BOGO. and starbucks has offered above 71000 of BOGO offer."
   ]
  },
  {
   "cell_type": "markdown",
   "metadata": {},
   "source": [
    "#### How users interact with starbucks offers?"
   ]
  },
  {
   "cell_type": "code",
   "execution_count": 38,
   "metadata": {},
   "outputs": [
    {
     "data": {
      "image/png": "[encoded data removed]",
      "text/plain": [
       "<matplotlib.figure.Figure at 0x7f8f04b14fd0>"
      ]
     },
     "metadata": {
      "needs_background": "light"
     },
     "output_type": "display_data"
    }
   ],
   "source": [
    "temp = All_Data.event.value_counts().index #temp used in only this cell\n",
    "plt.figure(figsize=(12,8))\n",
    "sb.countplot(data=All_Data, x='event', order=temp )\n",
    "plt.title('Most Frequent Offer status')\n",
    "plt.xlabel('Offer status')\n",
    "plt.ylabel('Frequent');"
   ]
  },
  {
   "cell_type": "markdown",
   "metadata": {},
   "source": [
    "As shown above, Highest status is offer received which means that unfortunately the customers did not see the offer at all."
   ]
  },
  {
   "cell_type": "markdown",
   "metadata": {},
   "source": [
    "### I'm targeting people who responds to the offers and visit starbucks to purchase."
   ]
  },
  {
   "cell_type": "code",
   "execution_count": 39,
   "metadata": {},
   "outputs": [],
   "source": [
    "event_values = All_Data.event.value_counts()"
   ]
  },
  {
   "cell_type": "code",
   "execution_count": 40,
   "metadata": {},
   "outputs": [],
   "source": [
    "gender_values = All_Data.gender.value_counts()"
   ]
  },
  {
   "cell_type": "code",
   "execution_count": 41,
   "metadata": {},
   "outputs": [],
   "source": [
    "offer_type_values = All_Data.offer_type.value_counts()"
   ]
  },
  {
   "cell_type": "code",
   "execution_count": 42,
   "metadata": {},
   "outputs": [],
   "source": [
    "def Convert_Values(V1,V2,V3,Col):\n",
    "    All_Data[V1] = Col.apply(lambda x: 1 if V1 in x else 0)\n",
    "    All_Data[V2] = Col.apply(lambda x: 1 if V2 in x else 0)\n",
    "    All_Data[V3] = Col.apply(lambda x: 1 if V3 in x else 0)\n",
    "\n",
    "    All_Data.drop(columns={Col.name},inplace=True)"
   ]
  },
  {
   "cell_type": "code",
   "execution_count": 43,
   "metadata": {},
   "outputs": [
    {
     "data": {
      "text/html": [
       "<div>\n",
       "<style scoped>\n",
       "    .dataframe tbody tr th:only-of-type {\n",
       "        vertical-align: middle;\n",
       "    }\n",
       "\n",
       "    .dataframe tbody tr th {\n",
       "        vertical-align: top;\n",
       "    }\n",
       "\n",
       "    .dataframe thead th {\n",
       "        text-align: right;\n",
       "    }\n",
       "</style>\n",
       "<table border=\"1\" class=\"dataframe\">\n",
       "  <thead>\n",
       "    <tr style=\"text-align: right;\">\n",
       "      <th></th>\n",
       "      <th>difficulty</th>\n",
       "      <th>duration</th>\n",
       "      <th>offer_id</th>\n",
       "      <th>offer_type</th>\n",
       "      <th>reward</th>\n",
       "      <th>web</th>\n",
       "      <th>email</th>\n",
       "      <th>mobile</th>\n",
       "      <th>social</th>\n",
       "      <th>event</th>\n",
       "      <th>customer_id</th>\n",
       "      <th>amount</th>\n",
       "      <th>reward_complete</th>\n",
       "      <th>Days</th>\n",
       "      <th>age</th>\n",
       "      <th>became_member_on</th>\n",
       "      <th>gender</th>\n",
       "      <th>income</th>\n",
       "    </tr>\n",
       "  </thead>\n",
       "  <tbody>\n",
       "    <tr>\n",
       "      <th>0</th>\n",
       "      <td>10</td>\n",
       "      <td>7</td>\n",
       "      <td>ae264e3637204a6fb9bb56bc8210ddfd</td>\n",
       "      <td>bogo</td>\n",
       "      <td>10</td>\n",
       "      <td>0</td>\n",
       "      <td>1</td>\n",
       "      <td>1</td>\n",
       "      <td>1</td>\n",
       "      <td>offer received</td>\n",
       "      <td>4b0da7e80e5945209a1fdddfe813dbe0</td>\n",
       "      <td>0.0</td>\n",
       "      <td>0.0</td>\n",
       "      <td>0</td>\n",
       "      <td>64.0</td>\n",
       "      <td>2017</td>\n",
       "      <td>M</td>\n",
       "      <td>100000.0</td>\n",
       "    </tr>\n",
       "    <tr>\n",
       "      <th>1</th>\n",
       "      <td>10</td>\n",
       "      <td>7</td>\n",
       "      <td>ae264e3637204a6fb9bb56bc8210ddfd</td>\n",
       "      <td>bogo</td>\n",
       "      <td>10</td>\n",
       "      <td>0</td>\n",
       "      <td>1</td>\n",
       "      <td>1</td>\n",
       "      <td>1</td>\n",
       "      <td>offer received</td>\n",
       "      <td>1e9420836d554513ab90eba98552d0a9</td>\n",
       "      <td>0.0</td>\n",
       "      <td>0.0</td>\n",
       "      <td>0</td>\n",
       "      <td>22.0</td>\n",
       "      <td>2017</td>\n",
       "      <td>M</td>\n",
       "      <td>70000.0</td>\n",
       "    </tr>\n",
       "    <tr>\n",
       "      <th>2</th>\n",
       "      <td>10</td>\n",
       "      <td>7</td>\n",
       "      <td>ae264e3637204a6fb9bb56bc8210ddfd</td>\n",
       "      <td>bogo</td>\n",
       "      <td>10</td>\n",
       "      <td>0</td>\n",
       "      <td>1</td>\n",
       "      <td>1</td>\n",
       "      <td>1</td>\n",
       "      <td>offer received</td>\n",
       "      <td>02c083884c7d45b39cc68e1314fec56c</td>\n",
       "      <td>0.0</td>\n",
       "      <td>0.0</td>\n",
       "      <td>0</td>\n",
       "      <td>20.0</td>\n",
       "      <td>2016</td>\n",
       "      <td>F</td>\n",
       "      <td>30000.0</td>\n",
       "    </tr>\n",
       "    <tr>\n",
       "      <th>3</th>\n",
       "      <td>10</td>\n",
       "      <td>7</td>\n",
       "      <td>ae264e3637204a6fb9bb56bc8210ddfd</td>\n",
       "      <td>bogo</td>\n",
       "      <td>10</td>\n",
       "      <td>0</td>\n",
       "      <td>1</td>\n",
       "      <td>1</td>\n",
       "      <td>1</td>\n",
       "      <td>offer received</td>\n",
       "      <td>676506bad68e4161b9bbaffeb039626b</td>\n",
       "      <td>0.0</td>\n",
       "      <td>0.0</td>\n",
       "      <td>0</td>\n",
       "      <td>37.0</td>\n",
       "      <td>2017</td>\n",
       "      <td>M</td>\n",
       "      <td>92000.0</td>\n",
       "    </tr>\n",
       "    <tr>\n",
       "      <th>4</th>\n",
       "      <td>10</td>\n",
       "      <td>7</td>\n",
       "      <td>ae264e3637204a6fb9bb56bc8210ddfd</td>\n",
       "      <td>bogo</td>\n",
       "      <td>10</td>\n",
       "      <td>0</td>\n",
       "      <td>1</td>\n",
       "      <td>1</td>\n",
       "      <td>1</td>\n",
       "      <td>offer received</td>\n",
       "      <td>fe8264108d5b4f198453bbb1fa7ca6c9</td>\n",
       "      <td>0.0</td>\n",
       "      <td>0.0</td>\n",
       "      <td>0</td>\n",
       "      <td>78.0</td>\n",
       "      <td>2016</td>\n",
       "      <td>F</td>\n",
       "      <td>93000.0</td>\n",
       "    </tr>\n",
       "  </tbody>\n",
       "</table>\n",
       "</div>"
      ],
      "text/plain": [
       "   difficulty  duration                          offer_id offer_type  reward  \\\n",
       "0          10         7  ae264e3637204a6fb9bb56bc8210ddfd       bogo      10   \n",
       "1          10         7  ae264e3637204a6fb9bb56bc8210ddfd       bogo      10   \n",
       "2          10         7  ae264e3637204a6fb9bb56bc8210ddfd       bogo      10   \n",
       "3          10         7  ae264e3637204a6fb9bb56bc8210ddfd       bogo      10   \n",
       "4          10         7  ae264e3637204a6fb9bb56bc8210ddfd       bogo      10   \n",
       "\n",
       "   web  email  mobile  social           event  \\\n",
       "0    0      1       1       1  offer received   \n",
       "1    0      1       1       1  offer received   \n",
       "2    0      1       1       1  offer received   \n",
       "3    0      1       1       1  offer received   \n",
       "4    0      1       1       1  offer received   \n",
       "\n",
       "                        customer_id  amount  reward_complete  Days   age  \\\n",
       "0  4b0da7e80e5945209a1fdddfe813dbe0     0.0              0.0     0  64.0   \n",
       "1  1e9420836d554513ab90eba98552d0a9     0.0              0.0     0  22.0   \n",
       "2  02c083884c7d45b39cc68e1314fec56c     0.0              0.0     0  20.0   \n",
       "3  676506bad68e4161b9bbaffeb039626b     0.0              0.0     0  37.0   \n",
       "4  fe8264108d5b4f198453bbb1fa7ca6c9     0.0              0.0     0  78.0   \n",
       "\n",
       "   became_member_on gender    income  \n",
       "0              2017      M  100000.0  \n",
       "1              2017      M   70000.0  \n",
       "2              2016      F   30000.0  \n",
       "3              2017      M   92000.0  \n",
       "4              2016      F   93000.0  "
      ]
     },
     "execution_count": 43,
     "metadata": {},
     "output_type": "execute_result"
    }
   ],
   "source": [
    "All_Data.head()"
   ]
  },
  {
   "cell_type": "code",
   "execution_count": 44,
   "metadata": {},
   "outputs": [],
   "source": [
    "Convert_Values(gender_values.index[0],gender_values.index[1],gender_values.index[2],All_Data['gender'])"
   ]
  },
  {
   "cell_type": "code",
   "execution_count": 45,
   "metadata": {},
   "outputs": [],
   "source": [
    "Convert_Values(event_values.index[0],event_values.index[1],event_values.index[2],All_Data['event'])"
   ]
  },
  {
   "cell_type": "code",
   "execution_count": 46,
   "metadata": {},
   "outputs": [],
   "source": [
    "Convert_Values(offer_type_values.index[0],offer_type_values.index[1],offer_type_values.index[2],All_Data['offer_type'])"
   ]
  },
  {
   "cell_type": "code",
   "execution_count": 47,
   "metadata": {},
   "outputs": [],
   "source": [
    "All_Data.rename(columns={'offer viewed':'offer_viewed','offer completed':'offer_completed','offer received':'offer_received'},inplace=True)"
   ]
  },
  {
   "cell_type": "code",
   "execution_count": 48,
   "metadata": {},
   "outputs": [],
   "source": [
    "All_Data['customer_response'] = All_Data['offer_viewed'] + All_Data['offer_completed']"
   ]
  },
  {
   "cell_type": "code",
   "execution_count": 49,
   "metadata": {},
   "outputs": [
    {
     "data": {
      "text/plain": [
       "1    91304\n",
       "0    76277\n",
       "Name: customer_response, dtype: int64"
      ]
     },
     "execution_count": 49,
     "metadata": {},
     "output_type": "execute_result"
    }
   ],
   "source": [
    "All_Data['customer_response'].value_counts()"
   ]
  },
  {
   "cell_type": "code",
   "execution_count": 50,
   "metadata": {},
   "outputs": [
    {
     "data": {
      "text/plain": [
       "Index(['difficulty', 'duration', 'offer_id', 'reward', 'web', 'email',\n",
       "       'mobile', 'social', 'customer_id', 'amount', 'reward_complete', 'Days',\n",
       "       'age', 'became_member_on', 'income', 'M', 'F', 'O', 'offer_received',\n",
       "       'offer_viewed', 'offer_completed', 'bogo', 'discount', 'informational',\n",
       "       'customer_response'],\n",
       "      dtype='object')"
      ]
     },
     "execution_count": 50,
     "metadata": {},
     "output_type": "execute_result"
    }
   ],
   "source": [
    "All_Data.columns"
   ]
  },
  {
   "cell_type": "code",
   "execution_count": 51,
   "metadata": {},
   "outputs": [],
   "source": [
    "All_Data = All_Data.drop(['reward'], axis=1)"
   ]
  },
  {
   "cell_type": "code",
   "execution_count": 52,
   "metadata": {},
   "outputs": [
    {
     "data": {
      "text/plain": [
       "0.0     134002\n",
       "5.0      12070\n",
       "2.0       9334\n",
       "10.0      7019\n",
       "3.0       5156\n",
       "Name: reward_complete, dtype: int64"
      ]
     },
     "execution_count": 52,
     "metadata": {},
     "output_type": "execute_result"
    }
   ],
   "source": [
    "All_Data.reward_complete.value_counts()"
   ]
  },
  {
   "cell_type": "code",
   "execution_count": 53,
   "metadata": {},
   "outputs": [],
   "source": [
    "All_Data.became_member_on = All_Data.became_member_on.astype(str)"
   ]
  },
  {
   "cell_type": "markdown",
   "metadata": {},
   "source": [
    "## Building Model"
   ]
  },
  {
   "cell_type": "code",
   "execution_count": 54,
   "metadata": {},
   "outputs": [],
   "source": [
    "def classification_report_print(y_test,y_pred): \n",
    "\n",
    "    #Printing classification report for each class\n",
    "    print(classification_report(y_test, y_pred))\n",
    "\n",
    "    #Calculating the accuracy for the model    \n",
    "    accuracy_model = (y_pred == y_test.values).mean()\n",
    "    print(\"The model accuracy is:\")\n",
    "    print(accuracy_model)\n",
    "    \n",
    "def get_accuracy(y_test,y_pred):\n",
    "    accuracy_model = (y_pred == y_test.values).mean()\n",
    "    return accuracy_model"
   ]
  },
  {
   "cell_type": "code",
   "execution_count": 55,
   "metadata": {},
   "outputs": [],
   "source": [
    "#splitting the dataframe into features and target\n",
    "features = All_Data.drop(['customer_response','offer_id','customer_id','offer_viewed','offer_completed','offer_received','income','became_member_on'], axis=1)\n",
    "label = All_Data['customer_response']"
   ]
  },
  {
   "cell_type": "code",
   "execution_count": 56,
   "metadata": {},
   "outputs": [],
   "source": [
    "X_train, X_test, y_train, y_test = train_test_split(features,label, test_size=0.25)"
   ]
  },
  {
   "cell_type": "code",
   "execution_count": 57,
   "metadata": {},
   "outputs": [
    {
     "name": "stdout",
     "output_type": "stream",
     "text": [
      "             precision    recall  f1-score   support\n",
      "\n",
      "          0       0.67      0.88      0.76     18992\n",
      "          1       0.87      0.64      0.74     22904\n",
      "\n",
      "avg / total       0.78      0.75      0.75     41896\n",
      "\n",
      "The model accuracy is:\n",
      "0.749092992171\n"
     ]
    }
   ],
   "source": [
    "model_RandomForest = RandomForestClassifier(random_state=42)\n",
    "\n",
    "#Fiting the model and predicting\n",
    "y_pred = model_RandomForest.fit(X_train, y_train).predict(X_test)\n",
    "classification_report_print(y_test,y_pred)\n",
    "model_RandomForest_accuracy = get_accuracy(y_test,y_pred)"
   ]
  },
  {
   "cell_type": "code",
   "execution_count": 58,
   "metadata": {},
   "outputs": [
    {
     "name": "stdout",
     "output_type": "stream",
     "text": [
      "             precision    recall  f1-score   support\n",
      "\n",
      "          0       0.68      0.93      0.79     18992\n",
      "          1       0.92      0.63      0.75     22904\n",
      "\n",
      "avg / total       0.81      0.77      0.77     41896\n",
      "\n",
      "The model accuracy is:\n",
      "0.768880084018\n"
     ]
    }
   ],
   "source": [
    "model_DecisionTree = DecisionTreeClassifier(random_state=42)\n",
    "\n",
    "#Fiting the model and predicting\n",
    "y_pred = model_DecisionTree.fit(X_train, y_train).predict(X_test)\n",
    "classification_report_print(y_test,y_pred)\n",
    "model_model_DecisionTree = get_accuracy(y_test,y_pred)"
   ]
  },
  {
   "cell_type": "code",
   "execution_count": 59,
   "metadata": {},
   "outputs": [
    {
     "name": "stdout",
     "output_type": "stream",
     "text": [
      "             precision    recall  f1-score   support\n",
      "\n",
      "          0       0.58      0.85      0.69     18992\n",
      "          1       0.80      0.49      0.61     22904\n",
      "\n",
      "avg / total       0.70      0.66      0.65     41896\n",
      "\n",
      "The model accuracy is:\n",
      "0.656936223028\n"
     ]
    }
   ],
   "source": [
    "model_LogisticRegression = LogisticRegression(random_state=42)\n",
    "y_pred = model_LogisticRegression.fit(X_train, y_train).predict(X_test)\n",
    "\n",
    "classification_report_print(y_test,y_pred)\n",
    "model_model_LogisticRegression = get_accuracy(y_test,y_pred)"
   ]
  },
  {
   "cell_type": "code",
   "execution_count": 60,
   "metadata": {},
   "outputs": [
    {
     "name": "stdout",
     "output_type": "stream",
     "text": [
      "             precision    recall  f1-score   support\n",
      "\n",
      "          0       0.65      0.81      0.72     18992\n",
      "          1       0.80      0.63      0.71     22904\n",
      "\n",
      "avg / total       0.73      0.71      0.71     41896\n",
      "\n",
      "The model accuracy is:\n",
      "0.714746037808\n"
     ]
    }
   ],
   "source": [
    "model_KNN = KNeighborsClassifier()\n",
    "y_pred = model_KNN.fit(X_train, y_train).predict(X_test)\n",
    "\n",
    "classification_report_print(y_test,y_pred)\n",
    "model_KNN_accuracy = get_accuracy(y_test,y_pred)"
   ]
  },
  {
   "cell_type": "code",
   "execution_count": 61,
   "metadata": {},
   "outputs": [],
   "source": [
    "data = {'Name': ['RandomForest', 'DecisionTree', 'LogisticRegression', 'KNN'], 'Accuracy': [model_RandomForest_accuracy, model_model_DecisionTree, model_model_LogisticRegression, model_KNN_accuracy]}\n",
    "Model_Info = pd.DataFrame(data)"
   ]
  },
  {
   "cell_type": "code",
   "execution_count": 62,
   "metadata": {},
   "outputs": [
    {
     "data": {
      "image/png": "[encoded data removed]",
      "text/plain": [
       "<matplotlib.figure.Figure at 0x7f8f0c3b2c50>"
      ]
     },
     "metadata": {
      "needs_background": "light"
     },
     "output_type": "display_data"
    }
   ],
   "source": [
    "plt.figure(figsize=(12,8))\n",
    "sb.barplot(data=Model_Info, x='Name',y='Accuracy')\n",
    "plt.title('Accuracy For Each Model')\n",
    "plt.xlabel('Model Name')\n",
    "plt.ylabel('Accuracy');"
   ]
  },
  {
   "cell_type": "markdown",
   "metadata": {},
   "source": [
    "As the plot above shown Decision Tree model has the heighst accuracy. "
   ]
  },
  {
   "cell_type": "markdown",
   "metadata": {},
   "source": [
    "### Tuning Best Model"
   ]
  },
  {
   "cell_type": "code",
   "execution_count": 63,
   "metadata": {
    "scrolled": true
   },
   "outputs": [
    {
     "data": {
      "text/plain": [
       "{'class_weight': None,\n",
       " 'criterion': 'gini',\n",
       " 'max_depth': None,\n",
       " 'max_features': None,\n",
       " 'max_leaf_nodes': None,\n",
       " 'min_impurity_decrease': 0.0,\n",
       " 'min_impurity_split': None,\n",
       " 'min_samples_leaf': 1,\n",
       " 'min_samples_split': 2,\n",
       " 'min_weight_fraction_leaf': 0.0,\n",
       " 'presort': False,\n",
       " 'random_state': 42,\n",
       " 'splitter': 'best'}"
      ]
     },
     "execution_count": 63,
     "metadata": {},
     "output_type": "execute_result"
    }
   ],
   "source": [
    "model_DecisionTree.get_params()"
   ]
  },
  {
   "cell_type": "code",
   "execution_count": 64,
   "metadata": {},
   "outputs": [
    {
     "data": {
      "text/plain": [
       "GridSearchCV(cv=None, error_score='raise',\n",
       "       estimator=DecisionTreeClassifier(class_weight=None, criterion='gini', max_depth=None,\n",
       "            max_features=None, max_leaf_nodes=None,\n",
       "            min_impurity_decrease=0.0, min_impurity_split=None,\n",
       "            min_samples_leaf=1, min_samples_split=2,\n",
       "            min_weight_fraction_leaf=0.0, presort=False, random_state=42,\n",
       "            splitter='best'),\n",
       "       fit_params=None, iid=True, n_jobs=1,\n",
       "       param_grid={'class_weight': [None], 'criterion': ['gini'], 'max_depth': [None], 'max_features': [None], 'max_leaf_nodes': [None], 'min_impurity_decrease': [0.0], 'min_impurity_split': [None], 'min_samples_leaf': [1], 'min_samples_split': [2], 'min_weight_fraction_leaf': [0.0], 'presort': [False], 'random_state': [42], 'splitter': ['best']},\n",
       "       pre_dispatch='2*n_jobs', refit=True, return_train_score='warn',\n",
       "       scoring=None, verbose=0)"
      ]
     },
     "execution_count": 64,
     "metadata": {},
     "output_type": "execute_result"
    }
   ],
   "source": [
    "#Identifing the parameters \n",
    "parameters = {  'class_weight': [None],\n",
    "                 'criterion': ['gini'],\n",
    "                 'max_depth': [None],\n",
    "                 'max_features': [None],\n",
    "                 'max_leaf_nodes': [None],\n",
    "                 'min_impurity_decrease': [0.0],\n",
    "                 'min_impurity_split': [None],\n",
    "                 'min_samples_leaf': [1],\n",
    "                 'min_samples_split': [2],\n",
    "                 'min_weight_fraction_leaf':[0.0],\n",
    "                 'presort': [False],\n",
    "                 'random_state': [42],\n",
    "                 'splitter': ['best']\n",
    "             }\n",
    "\n",
    "\n",
    "cv = GridSearchCV(model_DecisionTree, param_grid=parameters)\n",
    "cv"
   ]
  },
  {
   "cell_type": "code",
   "execution_count": 65,
   "metadata": {},
   "outputs": [
    {
     "name": "stdout",
     "output_type": "stream",
     "text": [
      "             precision    recall  f1-score   support\n",
      "\n",
      "          0       0.68      0.93      0.79     18992\n",
      "          1       0.92      0.63      0.75     22904\n",
      "\n",
      "avg / total       0.81      0.77      0.77     41896\n",
      "\n",
      "The model accuracy is:\n",
      "0.768880084018\n"
     ]
    }
   ],
   "source": [
    "classification_report_print(y_test,cv.fit(X_train, y_train).predict(X_test))"
   ]
  },
  {
   "cell_type": "code",
   "execution_count": 66,
   "metadata": {},
   "outputs": [
    {
     "data": {
      "text/plain": [
       "{'class_weight': None,\n",
       " 'criterion': 'gini',\n",
       " 'max_depth': None,\n",
       " 'max_features': None,\n",
       " 'max_leaf_nodes': None,\n",
       " 'min_impurity_decrease': 0.0,\n",
       " 'min_impurity_split': None,\n",
       " 'min_samples_leaf': 1,\n",
       " 'min_samples_split': 2,\n",
       " 'min_weight_fraction_leaf': 0.0,\n",
       " 'presort': False,\n",
       " 'random_state': 42,\n",
       " 'splitter': 'best'}"
      ]
     },
     "execution_count": 66,
     "metadata": {},
     "output_type": "execute_result"
    }
   ],
   "source": [
    "cv.best_params_"
   ]
  },
  {
   "cell_type": "markdown",
   "metadata": {},
   "source": [
    "## Conclusion\n",
    "\n",
    "<b>In this project, I have investgated Starbucks dateset.\n",
    "\n",
    "<b>I have been through data science process starting with Business Understanding, Data Understanding, Data Preprocessing, Modeling, Evaluation and Deployment."
   ]
  },
  {
   "cell_type": "markdown",
   "metadata": {},
   "source": [
    "### Reflection"
   ]
  },
  {
   "cell_type": "markdown",
   "metadata": {},
   "source": [
    "<b>I was interested to know what are the features that effecting customer decision to response to Starbucks offers.\n",
    "So, I built multiple models such as KNN, Random Forest and Decision Tree to predict whether the new customers will responds to Starbucks offers or not. Best classifier was Decision Tree with accuracy 77%."
   ]
  },
  {
   "cell_type": "markdown",
   "metadata": {},
   "source": [
    "### Improvement"
   ]
  },
  {
   "cell_type": "markdown",
   "metadata": {},
   "source": [
    "<b>Due to time limitation I couldn't able to investigate more to find out what are the best features that might effect customers response to get accuracy above 95%.\n",
    "    \n",
    "<b>1- I believe there chance to improve the models by preparing the dataset to get higher accuracy.<br>\n",
    "<b>2- I believe there chance to improve the models performance by changing the features selected to predict the class label \"customer_response\""
   ]
  }
 ],
 "metadata": {
  "kernelspec": {
   "display_name": "Python 3",
   "language": "python",
   "name": "python3"
  },
  "language_info": {
   "codemirror_mode": {
    "name": "ipython",
    "version": 3
   },
   "file_extension": ".py",
   "mimetype": "text/x-python",
   "name": "python",
   "nbconvert_exporter": "python",
   "pygments_lexer": "ipython3",
   "version": "3.6.3"
  }
 },
 "nbformat": 4,
 "nbformat_minor": 2
}
